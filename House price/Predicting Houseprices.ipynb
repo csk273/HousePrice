{
 "cells": [
  {
   "cell_type": "code",
   "execution_count": 1,
   "metadata": {
    "collapsed": true
   },
   "outputs": [],
   "source": [
    "import pandas as pd\n",
    "import numpy as np\n",
    "import matplotlib.pyplot as plt\n",
    "import seaborn as sns\n",
    "from sklearn.preprocessing import StandardScaler\n",
    "%matplotlib inline\n",
    "pd.set_option('display.max_rows', 1500)\n",
    "\n",
    "pd.set_option('display.max_columns',50)"
   ]
  },
  {
   "cell_type": "code",
   "execution_count": 2,
   "metadata": {
    "collapsed": true
   },
   "outputs": [],
   "source": [
    "train = pd.read_csv('train.csv')\n",
    "test = pd.read_csv('test.csv')"
   ]
  },
  {
   "cell_type": "markdown",
   "metadata": {},
   "source": [
    "*We now concat train and test datasets to process the missing values *"
   ]
  },
  {
   "cell_type": "code",
   "execution_count": 3,
   "metadata": {
    "collapsed": false
   },
   "outputs": [],
   "source": [
    "df = pd.concat((train.loc[:,'Id':'SaleCondition'], test.loc[:,'Id':'SaleCondition']), ignore_index= True)"
   ]
  },
  {
   "cell_type": "code",
   "execution_count": 4,
   "metadata": {
    "collapsed": false
   },
   "outputs": [],
   "source": [
    "num_col = df.columns[df.dtypes != np.object]\n",
    "cat_col = df.columns[df.dtypes == np.object]"
   ]
  },
  {
   "cell_type": "code",
   "execution_count": null,
   "metadata": {
    "collapsed": false,
    "scrolled": true
   },
   "outputs": [],
   "source": [
    "df.isnull().sum()[df.isnull().sum() > 0]"
   ]
  },
  {
   "cell_type": "markdown",
   "metadata": {},
   "source": [
    "From Inspiration of (https://www.kaggle.com/tannercarbonati/house-prices-advanced-regression-techniques/detailed-data-analysis-ensemble-modeling/notebook) I am converting the Na's into with logical values (like mean or mode) \n",
    " "
   ]
  },
  {
   "cell_type": "markdown",
   "metadata": {},
   "source": [
    "## Data Manipulations:"
   ]
  },
  {
   "cell_type": "code",
   "execution_count": 5,
   "metadata": {
    "collapsed": false,
    "scrolled": true
   },
   "outputs": [
    {
     "data": {
      "text/html": [
       "<div>\n",
       "<table border=\"1\" class=\"dataframe\">\n",
       "  <thead>\n",
       "    <tr style=\"text-align: right;\">\n",
       "      <th></th>\n",
       "      <th>MSZoning</th>\n",
       "      <th>MSSubClass</th>\n",
       "    </tr>\n",
       "  </thead>\n",
       "  <tbody>\n",
       "    <tr>\n",
       "      <th>1915</th>\n",
       "      <td>NaN</td>\n",
       "      <td>30</td>\n",
       "    </tr>\n",
       "    <tr>\n",
       "      <th>2216</th>\n",
       "      <td>NaN</td>\n",
       "      <td>20</td>\n",
       "    </tr>\n",
       "    <tr>\n",
       "      <th>2250</th>\n",
       "      <td>NaN</td>\n",
       "      <td>70</td>\n",
       "    </tr>\n",
       "    <tr>\n",
       "      <th>2904</th>\n",
       "      <td>NaN</td>\n",
       "      <td>20</td>\n",
       "    </tr>\n",
       "  </tbody>\n",
       "</table>\n",
       "</div>"
      ],
      "text/plain": [
       "     MSZoning  MSSubClass\n",
       "1915      NaN          30\n",
       "2216      NaN          20\n",
       "2250      NaN          70\n",
       "2904      NaN          20"
      ]
     },
     "execution_count": 5,
     "metadata": {},
     "output_type": "execute_result"
    }
   ],
   "source": [
    "df.loc[df['MSZoning'].isnull(),['MSZoning','MSSubClass']]"
   ]
  },
  {
   "cell_type": "code",
   "execution_count": 6,
   "metadata": {
    "collapsed": false
   },
   "outputs": [
    {
     "data": {
      "text/html": [
       "<div>\n",
       "<table border=\"1\" class=\"dataframe\">\n",
       "  <thead>\n",
       "    <tr style=\"text-align: right;\">\n",
       "      <th>MSSubClass</th>\n",
       "      <th>20</th>\n",
       "      <th>30</th>\n",
       "      <th>40</th>\n",
       "      <th>45</th>\n",
       "      <th>50</th>\n",
       "      <th>60</th>\n",
       "      <th>70</th>\n",
       "      <th>75</th>\n",
       "      <th>80</th>\n",
       "      <th>85</th>\n",
       "      <th>90</th>\n",
       "      <th>120</th>\n",
       "      <th>150</th>\n",
       "      <th>160</th>\n",
       "      <th>180</th>\n",
       "      <th>190</th>\n",
       "    </tr>\n",
       "    <tr>\n",
       "      <th>MSZoning</th>\n",
       "      <th></th>\n",
       "      <th></th>\n",
       "      <th></th>\n",
       "      <th></th>\n",
       "      <th></th>\n",
       "      <th></th>\n",
       "      <th></th>\n",
       "      <th></th>\n",
       "      <th></th>\n",
       "      <th></th>\n",
       "      <th></th>\n",
       "      <th></th>\n",
       "      <th></th>\n",
       "      <th></th>\n",
       "      <th></th>\n",
       "      <th></th>\n",
       "    </tr>\n",
       "  </thead>\n",
       "  <tbody>\n",
       "    <tr>\n",
       "      <th>C (all)</th>\n",
       "      <td>3</td>\n",
       "      <td>8</td>\n",
       "      <td>0</td>\n",
       "      <td>0</td>\n",
       "      <td>7</td>\n",
       "      <td>0</td>\n",
       "      <td>4</td>\n",
       "      <td>0</td>\n",
       "      <td>0</td>\n",
       "      <td>0</td>\n",
       "      <td>0</td>\n",
       "      <td>0</td>\n",
       "      <td>0</td>\n",
       "      <td>0</td>\n",
       "      <td>0</td>\n",
       "      <td>3</td>\n",
       "    </tr>\n",
       "    <tr>\n",
       "      <th>FV</th>\n",
       "      <td>34</td>\n",
       "      <td>0</td>\n",
       "      <td>0</td>\n",
       "      <td>0</td>\n",
       "      <td>0</td>\n",
       "      <td>43</td>\n",
       "      <td>0</td>\n",
       "      <td>0</td>\n",
       "      <td>0</td>\n",
       "      <td>0</td>\n",
       "      <td>0</td>\n",
       "      <td>19</td>\n",
       "      <td>0</td>\n",
       "      <td>43</td>\n",
       "      <td>0</td>\n",
       "      <td>0</td>\n",
       "    </tr>\n",
       "    <tr>\n",
       "      <th>RH</th>\n",
       "      <td>4</td>\n",
       "      <td>2</td>\n",
       "      <td>0</td>\n",
       "      <td>1</td>\n",
       "      <td>2</td>\n",
       "      <td>0</td>\n",
       "      <td>3</td>\n",
       "      <td>0</td>\n",
       "      <td>0</td>\n",
       "      <td>0</td>\n",
       "      <td>4</td>\n",
       "      <td>6</td>\n",
       "      <td>0</td>\n",
       "      <td>0</td>\n",
       "      <td>0</td>\n",
       "      <td>4</td>\n",
       "    </tr>\n",
       "    <tr>\n",
       "      <th>RL</th>\n",
       "      <td>1016</td>\n",
       "      <td>61</td>\n",
       "      <td>4</td>\n",
       "      <td>6</td>\n",
       "      <td>159</td>\n",
       "      <td>529</td>\n",
       "      <td>57</td>\n",
       "      <td>9</td>\n",
       "      <td>115</td>\n",
       "      <td>47</td>\n",
       "      <td>92</td>\n",
       "      <td>117</td>\n",
       "      <td>1</td>\n",
       "      <td>21</td>\n",
       "      <td>0</td>\n",
       "      <td>31</td>\n",
       "    </tr>\n",
       "    <tr>\n",
       "      <th>RM</th>\n",
       "      <td>20</td>\n",
       "      <td>67</td>\n",
       "      <td>2</td>\n",
       "      <td>11</td>\n",
       "      <td>119</td>\n",
       "      <td>3</td>\n",
       "      <td>63</td>\n",
       "      <td>14</td>\n",
       "      <td>3</td>\n",
       "      <td>1</td>\n",
       "      <td>13</td>\n",
       "      <td>40</td>\n",
       "      <td>0</td>\n",
       "      <td>64</td>\n",
       "      <td>17</td>\n",
       "      <td>23</td>\n",
       "    </tr>\n",
       "  </tbody>\n",
       "</table>\n",
       "</div>"
      ],
      "text/plain": [
       "MSSubClass   20   30   40   45   50   60   70   75   80   85   90   120  150  \\\n",
       "MSZoning                                                                       \n",
       "C (all)        3    8    0    0    7    0    4    0    0    0    0    0    0   \n",
       "FV            34    0    0    0    0   43    0    0    0    0    0   19    0   \n",
       "RH             4    2    0    1    2    0    3    0    0    0    4    6    0   \n",
       "RL          1016   61    4    6  159  529   57    9  115   47   92  117    1   \n",
       "RM            20   67    2   11  119    3   63   14    3    1   13   40    0   \n",
       "\n",
       "MSSubClass  160  180  190  \n",
       "MSZoning                   \n",
       "C (all)       0    0    3  \n",
       "FV           43    0    0  \n",
       "RH            0    0    4  \n",
       "RL           21    0   31  \n",
       "RM           64   17   23  "
      ]
     },
     "execution_count": 6,
     "metadata": {},
     "output_type": "execute_result"
    }
   ],
   "source": [
    "pd.crosstab(df['MSZoning'],df['MSSubClass'])"
   ]
  },
  {
   "cell_type": "code",
   "execution_count": 5,
   "metadata": {
    "collapsed": false
   },
   "outputs": [],
   "source": [
    "df.loc[(2216,2904),'MSZoning'] = 'RL'\n",
    "df.loc[(1915,2250),'MSZoning'] = 'RM'"
   ]
  },
  {
   "cell_type": "code",
   "execution_count": 6,
   "metadata": {
    "collapsed": false,
    "scrolled": true
   },
   "outputs": [],
   "source": [
    "df['Mod_LotFrontage'] = df['LotFrontage']\n",
    "ltf = df.loc[df['LotFrontage'].isnull(),['Neighborhood','LotFrontage']]\n",
    "\n",
    "mean_lotfrontage = dict(df.groupby('Neighborhood')['LotFrontage'].mean())\n",
    "for i in ltf.index:\n",
    "    df.loc[i,'Mod_LotFrontage'] = mean_lotfrontage[ltf.loc[i,'Neighborhood']]\n",
    "\n",
    "df.loc[df['LotFrontage'].isnull(),['Neighborhood','LotFrontage','Mod_LotFrontage']]\n",
    "\n",
    "df.drop('LotFrontage',1,inplace= True)\n",
    "df = df.rename(columns={'Mod_LotFrontage': 'LotFrontage'})"
   ]
  },
  {
   "cell_type": "code",
   "execution_count": 7,
   "metadata": {
    "collapsed": false,
    "scrolled": true
   },
   "outputs": [],
   "source": [
    "bsmt = df.filter(regex = 'Bsmt')\n",
    "bsmt.loc[bsmt['BsmtFinType1'].isnull(),'BsmtQual'] = 'No Basement'\n",
    "bsmt.loc[bsmt['BsmtFinType1'].isnull(),'BsmtCond'] = 'No Basement'\n",
    "bsmt.loc[bsmt['BsmtFinType1'].isnull(),'BsmtExposure'] = 'No Basement'\n",
    "bsmt.loc[bsmt['BsmtFinType1'].isnull(),'BsmtFinType2'] = 'No Basement'\n",
    "bsmt.loc[bsmt['BsmtFinType1'].isnull(),'BsmtFinSF1'] = 0\n",
    "bsmt.loc[bsmt['BsmtFinType1'].isnull(),'BsmtFinSF2'] = 0\n",
    "bsmt.loc[bsmt['BsmtFinType1'].isnull(),'BsmtUnfSF'] = 0\n",
    "bsmt.loc[bsmt['BsmtFinType1'].isnull(),'TotalBsmtSF'] = 0\n",
    "bsmt.loc[bsmt['BsmtFinType1'].isnull(),'BsmtFullBath'] = 0\n",
    "bsmt.loc[bsmt['BsmtFinType1'].isnull(),'BsmtHalfBath'] = 0"
   ]
  },
  {
   "cell_type": "code",
   "execution_count": 8,
   "metadata": {
    "collapsed": false
   },
   "outputs": [
    {
     "data": {
      "text/html": [
       "<div>\n",
       "<table border=\"1\" class=\"dataframe\">\n",
       "  <thead>\n",
       "    <tr style=\"text-align: right;\">\n",
       "      <th></th>\n",
       "      <th>BsmtQual</th>\n",
       "      <th>BsmtCond</th>\n",
       "      <th>BsmtExposure</th>\n",
       "      <th>BsmtFinType1</th>\n",
       "      <th>BsmtFinSF1</th>\n",
       "      <th>BsmtFinType2</th>\n",
       "      <th>BsmtFinSF2</th>\n",
       "      <th>BsmtUnfSF</th>\n",
       "      <th>TotalBsmtSF</th>\n",
       "      <th>BsmtFullBath</th>\n",
       "      <th>BsmtHalfBath</th>\n",
       "    </tr>\n",
       "  </thead>\n",
       "  <tbody>\n",
       "    <tr>\n",
       "      <th>332</th>\n",
       "      <td>Gd</td>\n",
       "      <td>TA</td>\n",
       "      <td>No</td>\n",
       "      <td>GLQ</td>\n",
       "      <td>1124.0</td>\n",
       "      <td>NaN</td>\n",
       "      <td>479.0</td>\n",
       "      <td>1603.0</td>\n",
       "      <td>3206.0</td>\n",
       "      <td>1.0</td>\n",
       "      <td>0.0</td>\n",
       "    </tr>\n",
       "  </tbody>\n",
       "</table>\n",
       "</div>"
      ],
      "text/plain": [
       "    BsmtQual BsmtCond BsmtExposure BsmtFinType1  BsmtFinSF1 BsmtFinType2  \\\n",
       "332       Gd       TA           No          GLQ      1124.0          NaN   \n",
       "\n",
       "     BsmtFinSF2  BsmtUnfSF  TotalBsmtSF  BsmtFullBath  BsmtHalfBath  \n",
       "332       479.0     1603.0       3206.0           1.0           0.0  "
      ]
     },
     "execution_count": 8,
     "metadata": {},
     "output_type": "execute_result"
    }
   ],
   "source": [
    "bsmt['BsmtFinType1'].fillna('No Basement',inplace = True)\n",
    "\n",
    "bsmt[bsmt['BsmtFinType2'].isnull()]"
   ]
  },
  {
   "cell_type": "code",
   "execution_count": 9,
   "metadata": {
    "collapsed": false
   },
   "outputs": [
    {
     "name": "stdout",
     "output_type": "stream",
     "text": [
      "BsmtFinType2\n",
      "ALQ            559.500000\n",
      "BLQ            350.720588\n",
      "GLQ            723.264706\n",
      "LwQ            312.873563\n",
      "No Basement      0.000000\n",
      "Rec            375.638095\n",
      "Unf              0.002407\n",
      "Name: BsmtFinSF2, dtype: float64\n"
     ]
    }
   ],
   "source": [
    "print bsmt.groupby('BsmtFinType2')['BsmtFinSF2'].mean()\n",
    "## The \"BsmtFinType2\" value \"ALQ\" has the closest mean value for the \"BsmtFinSF2\", Thus it`s null value is filled with that.\n",
    "bsmt['BsmtFinType2'].fillna(\"ALQ\", inplace = True)"
   ]
  },
  {
   "cell_type": "code",
   "execution_count": 10,
   "metadata": {
    "collapsed": false
   },
   "outputs": [
    {
     "data": {
      "text/html": [
       "<div>\n",
       "<table border=\"1\" class=\"dataframe\">\n",
       "  <thead>\n",
       "    <tr style=\"text-align: right;\">\n",
       "      <th></th>\n",
       "      <th>BsmtQual</th>\n",
       "      <th>BsmtCond</th>\n",
       "      <th>BsmtExposure</th>\n",
       "      <th>BsmtFinType1</th>\n",
       "      <th>BsmtFinSF1</th>\n",
       "      <th>BsmtFinType2</th>\n",
       "      <th>BsmtFinSF2</th>\n",
       "      <th>BsmtUnfSF</th>\n",
       "      <th>TotalBsmtSF</th>\n",
       "      <th>BsmtFullBath</th>\n",
       "      <th>BsmtHalfBath</th>\n",
       "    </tr>\n",
       "  </thead>\n",
       "  <tbody>\n",
       "    <tr>\n",
       "      <th>948</th>\n",
       "      <td>Gd</td>\n",
       "      <td>TA</td>\n",
       "      <td>NaN</td>\n",
       "      <td>Unf</td>\n",
       "      <td>0.0</td>\n",
       "      <td>Unf</td>\n",
       "      <td>0.0</td>\n",
       "      <td>936.0</td>\n",
       "      <td>936.0</td>\n",
       "      <td>0.0</td>\n",
       "      <td>0.0</td>\n",
       "    </tr>\n",
       "    <tr>\n",
       "      <th>1487</th>\n",
       "      <td>Gd</td>\n",
       "      <td>TA</td>\n",
       "      <td>NaN</td>\n",
       "      <td>Unf</td>\n",
       "      <td>0.0</td>\n",
       "      <td>Unf</td>\n",
       "      <td>0.0</td>\n",
       "      <td>1595.0</td>\n",
       "      <td>1595.0</td>\n",
       "      <td>0.0</td>\n",
       "      <td>0.0</td>\n",
       "    </tr>\n",
       "    <tr>\n",
       "      <th>2348</th>\n",
       "      <td>Gd</td>\n",
       "      <td>TA</td>\n",
       "      <td>NaN</td>\n",
       "      <td>Unf</td>\n",
       "      <td>0.0</td>\n",
       "      <td>Unf</td>\n",
       "      <td>0.0</td>\n",
       "      <td>725.0</td>\n",
       "      <td>725.0</td>\n",
       "      <td>0.0</td>\n",
       "      <td>0.0</td>\n",
       "    </tr>\n",
       "  </tbody>\n",
       "</table>\n",
       "</div>"
      ],
      "text/plain": [
       "     BsmtQual BsmtCond BsmtExposure BsmtFinType1  BsmtFinSF1 BsmtFinType2  \\\n",
       "948        Gd       TA          NaN          Unf         0.0          Unf   \n",
       "1487       Gd       TA          NaN          Unf         0.0          Unf   \n",
       "2348       Gd       TA          NaN          Unf         0.0          Unf   \n",
       "\n",
       "      BsmtFinSF2  BsmtUnfSF  TotalBsmtSF  BsmtFullBath  BsmtHalfBath  \n",
       "948          0.0      936.0        936.0           0.0           0.0  \n",
       "1487         0.0     1595.0       1595.0           0.0           0.0  \n",
       "2348         0.0      725.0        725.0           0.0           0.0  "
      ]
     },
     "execution_count": 10,
     "metadata": {},
     "output_type": "execute_result"
    }
   ],
   "source": [
    "bsmt[bsmt['BsmtExposure'].isnull()]"
   ]
  },
  {
   "cell_type": "code",
   "execution_count": 10,
   "metadata": {
    "collapsed": false
   },
   "outputs": [
    {
     "name": "stdout",
     "output_type": "stream",
     "text": [
      "No    255\n",
      "Av     58\n",
      "Mn     22\n",
      "Gd     10\n",
      "Name: BsmtExposure, dtype: int64\n"
     ]
    }
   ],
   "source": [
    "print bsmt.loc[((bsmt['BsmtQual'] == 'Gd') & (bsmt['BsmtCond'] == 'TA') & \\\n",
    "          (bsmt['BsmtFinType1'] == 'Unf') & (bsmt['BsmtFinType2'] == 'Unf')),'BsmtExposure'].value_counts()\n",
    "\n",
    "bsmt['BsmtExposure'].fillna(\"No\", inplace = True)"
   ]
  },
  {
   "cell_type": "code",
   "execution_count": 14,
   "metadata": {
    "collapsed": false
   },
   "outputs": [
    {
     "data": {
      "text/html": [
       "<div>\n",
       "<table border=\"1\" class=\"dataframe\">\n",
       "  <thead>\n",
       "    <tr style=\"text-align: right;\">\n",
       "      <th></th>\n",
       "      <th>BsmtQual</th>\n",
       "      <th>BsmtCond</th>\n",
       "      <th>BsmtExposure</th>\n",
       "      <th>BsmtFinType1</th>\n",
       "      <th>BsmtFinSF1</th>\n",
       "      <th>BsmtFinType2</th>\n",
       "      <th>BsmtFinSF2</th>\n",
       "      <th>BsmtUnfSF</th>\n",
       "      <th>TotalBsmtSF</th>\n",
       "      <th>BsmtFullBath</th>\n",
       "      <th>BsmtHalfBath</th>\n",
       "    </tr>\n",
       "  </thead>\n",
       "  <tbody>\n",
       "    <tr>\n",
       "      <th>2040</th>\n",
       "      <td>Gd</td>\n",
       "      <td>NaN</td>\n",
       "      <td>Mn</td>\n",
       "      <td>GLQ</td>\n",
       "      <td>1044.0</td>\n",
       "      <td>Rec</td>\n",
       "      <td>382.0</td>\n",
       "      <td>0.0</td>\n",
       "      <td>1426.0</td>\n",
       "      <td>1.0</td>\n",
       "      <td>0.0</td>\n",
       "    </tr>\n",
       "    <tr>\n",
       "      <th>2185</th>\n",
       "      <td>TA</td>\n",
       "      <td>NaN</td>\n",
       "      <td>No</td>\n",
       "      <td>BLQ</td>\n",
       "      <td>1033.0</td>\n",
       "      <td>Unf</td>\n",
       "      <td>0.0</td>\n",
       "      <td>94.0</td>\n",
       "      <td>1127.0</td>\n",
       "      <td>0.0</td>\n",
       "      <td>1.0</td>\n",
       "    </tr>\n",
       "    <tr>\n",
       "      <th>2524</th>\n",
       "      <td>TA</td>\n",
       "      <td>NaN</td>\n",
       "      <td>Av</td>\n",
       "      <td>ALQ</td>\n",
       "      <td>755.0</td>\n",
       "      <td>Unf</td>\n",
       "      <td>0.0</td>\n",
       "      <td>240.0</td>\n",
       "      <td>995.0</td>\n",
       "      <td>0.0</td>\n",
       "      <td>0.0</td>\n",
       "    </tr>\n",
       "  </tbody>\n",
       "</table>\n",
       "</div>"
      ],
      "text/plain": [
       "     BsmtQual BsmtCond BsmtExposure BsmtFinType1  BsmtFinSF1 BsmtFinType2  \\\n",
       "2040       Gd      NaN           Mn          GLQ      1044.0          Rec   \n",
       "2185       TA      NaN           No          BLQ      1033.0          Unf   \n",
       "2524       TA      NaN           Av          ALQ       755.0          Unf   \n",
       "\n",
       "      BsmtFinSF2  BsmtUnfSF  TotalBsmtSF  BsmtFullBath  BsmtHalfBath  \n",
       "2040       382.0        0.0       1426.0           1.0           0.0  \n",
       "2185         0.0       94.0       1127.0           0.0           1.0  \n",
       "2524         0.0      240.0        995.0           0.0           0.0  "
      ]
     },
     "execution_count": 14,
     "metadata": {},
     "output_type": "execute_result"
    }
   ],
   "source": [
    "bsmt[bsmt['BsmtCond'].isnull()]"
   ]
  },
  {
   "cell_type": "code",
   "execution_count": 11,
   "metadata": {
    "collapsed": false
   },
   "outputs": [
    {
     "name": "stdout",
     "output_type": "stream",
     "text": [
      "TA    1\n",
      "Name: BsmtCond, dtype: int64\n",
      "TA    121\n",
      "Fa      7\n",
      "Gd      2\n",
      "Name: BsmtCond, dtype: int64\n",
      "TA    28\n",
      "Gd     1\n",
      "Name: BsmtCond, dtype: int64\n"
     ]
    }
   ],
   "source": [
    "print bsmt.loc[((bsmt['BsmtQual'] == 'Gd') & (bsmt['BsmtExposure'] == 'Mn') & \\\n",
    "          (bsmt['BsmtFinType1'] == 'GLQ') & (bsmt['BsmtFinType2'] == 'Rec')),'BsmtCond'].value_counts()\n",
    "\n",
    "\n",
    "print bsmt.loc[((bsmt['BsmtQual'] == 'TA') & (bsmt['BsmtExposure'] == 'No') & \\\n",
    "          (bsmt['BsmtFinType1'] == 'BLQ') & (bsmt['BsmtFinType2'] == 'Unf')),'BsmtCond'].value_counts()\n",
    "\n",
    "\n",
    "print bsmt.loc[((bsmt['BsmtQual'] == 'TA') & (bsmt['BsmtExposure'] == 'Av') & \\\n",
    "          (bsmt['BsmtFinType1'] == 'ALQ') & (bsmt['BsmtFinType2'] == 'Unf')),'BsmtCond'].value_counts()\n",
    "\n",
    "bsmt['BsmtCond'].fillna(\"TA\", inplace = True)"
   ]
  },
  {
   "cell_type": "code",
   "execution_count": 16,
   "metadata": {
    "collapsed": false
   },
   "outputs": [
    {
     "data": {
      "text/html": [
       "<div>\n",
       "<table border=\"1\" class=\"dataframe\">\n",
       "  <thead>\n",
       "    <tr style=\"text-align: right;\">\n",
       "      <th></th>\n",
       "      <th>BsmtQual</th>\n",
       "      <th>BsmtCond</th>\n",
       "      <th>BsmtExposure</th>\n",
       "      <th>BsmtFinType1</th>\n",
       "      <th>BsmtFinSF1</th>\n",
       "      <th>BsmtFinType2</th>\n",
       "      <th>BsmtFinSF2</th>\n",
       "      <th>BsmtUnfSF</th>\n",
       "      <th>TotalBsmtSF</th>\n",
       "      <th>BsmtFullBath</th>\n",
       "      <th>BsmtHalfBath</th>\n",
       "    </tr>\n",
       "  </thead>\n",
       "  <tbody>\n",
       "    <tr>\n",
       "      <th>2217</th>\n",
       "      <td>NaN</td>\n",
       "      <td>Fa</td>\n",
       "      <td>No</td>\n",
       "      <td>Unf</td>\n",
       "      <td>0.0</td>\n",
       "      <td>Unf</td>\n",
       "      <td>0.0</td>\n",
       "      <td>173.0</td>\n",
       "      <td>173.0</td>\n",
       "      <td>0.0</td>\n",
       "      <td>0.0</td>\n",
       "    </tr>\n",
       "    <tr>\n",
       "      <th>2218</th>\n",
       "      <td>NaN</td>\n",
       "      <td>TA</td>\n",
       "      <td>No</td>\n",
       "      <td>Unf</td>\n",
       "      <td>0.0</td>\n",
       "      <td>Unf</td>\n",
       "      <td>0.0</td>\n",
       "      <td>356.0</td>\n",
       "      <td>356.0</td>\n",
       "      <td>0.0</td>\n",
       "      <td>0.0</td>\n",
       "    </tr>\n",
       "  </tbody>\n",
       "</table>\n",
       "</div>"
      ],
      "text/plain": [
       "     BsmtQual BsmtCond BsmtExposure BsmtFinType1  BsmtFinSF1 BsmtFinType2  \\\n",
       "2217      NaN       Fa           No          Unf         0.0          Unf   \n",
       "2218      NaN       TA           No          Unf         0.0          Unf   \n",
       "\n",
       "      BsmtFinSF2  BsmtUnfSF  TotalBsmtSF  BsmtFullBath  BsmtHalfBath  \n",
       "2217         0.0      173.0        173.0           0.0           0.0  \n",
       "2218         0.0      356.0        356.0           0.0           0.0  "
      ]
     },
     "execution_count": 16,
     "metadata": {},
     "output_type": "execute_result"
    }
   ],
   "source": [
    "bsmt[bsmt['BsmtQual'].isnull()]"
   ]
  },
  {
   "cell_type": "code",
   "execution_count": 12,
   "metadata": {
    "collapsed": false
   },
   "outputs": [
    {
     "name": "stdout",
     "output_type": "stream",
     "text": [
      "TA    304\n",
      "Gd    258\n",
      "Fa     38\n",
      "Ex     20\n",
      "Name: BsmtQual, dtype: int64\n",
      "TA    31\n",
      "Fa    13\n",
      "Gd     2\n",
      "Name: BsmtQual, dtype: int64\n"
     ]
    }
   ],
   "source": [
    "print bsmt.loc[((bsmt['BsmtCond'] == 'TA') & (bsmt['BsmtExposure'] == 'No') & \\\n",
    "          (bsmt['BsmtFinType1'] == 'Unf') & (bsmt['BsmtFinType2'] == 'Unf')),'BsmtQual'].value_counts()\n",
    "\n",
    "print bsmt.loc[((bsmt['BsmtCond'] == 'Fa') & (bsmt['BsmtExposure'] == 'No') & \\\n",
    "          (bsmt['BsmtFinType1'] == 'Unf') & (bsmt['BsmtFinType2'] == 'Unf')),'BsmtQual'].value_counts()\n",
    "\n",
    "bsmt['BsmtQual'].fillna(\"TA\", inplace = True)"
   ]
  },
  {
   "cell_type": "code",
   "execution_count": 13,
   "metadata": {
    "collapsed": true
   },
   "outputs": [],
   "source": [
    "df[bsmt.columns] = bsmt"
   ]
  },
  {
   "cell_type": "code",
   "execution_count": 14,
   "metadata": {
    "collapsed": false
   },
   "outputs": [],
   "source": [
    "grg = df.filter(regex = \"Garage\")\n",
    "grg.loc[grg['GarageType'].isnull(),'GarageCond'] = 'No Garage'\n",
    "grg.loc[grg['GarageType'].isnull(),'GarageFinish'] = 'No Garage'\n",
    "grg.loc[grg['GarageType'].isnull(),'GarageQual'] = 'No Garage'\n",
    "grg.loc[grg['GarageType'].isnull(),'GarageYrBlt'] = 0"
   ]
  },
  {
   "cell_type": "code",
   "execution_count": 15,
   "metadata": {
    "collapsed": true
   },
   "outputs": [],
   "source": [
    "grg['GarageType'].fillna('No Garage', inplace = True)"
   ]
  },
  {
   "cell_type": "code",
   "execution_count": 17,
   "metadata": {
    "collapsed": false,
    "scrolled": true
   },
   "outputs": [
    {
     "data": {
      "text/html": [
       "<div>\n",
       "<table border=\"1\" class=\"dataframe\">\n",
       "  <thead>\n",
       "    <tr style=\"text-align: right;\">\n",
       "      <th></th>\n",
       "      <th>GarageType</th>\n",
       "      <th>GarageYrBlt</th>\n",
       "      <th>GarageFinish</th>\n",
       "      <th>GarageCars</th>\n",
       "      <th>GarageArea</th>\n",
       "      <th>GarageQual</th>\n",
       "      <th>GarageCond</th>\n",
       "    </tr>\n",
       "  </thead>\n",
       "  <tbody>\n",
       "    <tr>\n",
       "      <th>2126</th>\n",
       "      <td>Detchd</td>\n",
       "      <td>NaN</td>\n",
       "      <td>NaN</td>\n",
       "      <td>1.0</td>\n",
       "      <td>360.0</td>\n",
       "      <td>NaN</td>\n",
       "      <td>NaN</td>\n",
       "    </tr>\n",
       "    <tr>\n",
       "      <th>2576</th>\n",
       "      <td>Detchd</td>\n",
       "      <td>NaN</td>\n",
       "      <td>NaN</td>\n",
       "      <td>NaN</td>\n",
       "      <td>NaN</td>\n",
       "      <td>NaN</td>\n",
       "      <td>NaN</td>\n",
       "    </tr>\n",
       "  </tbody>\n",
       "</table>\n",
       "</div>"
      ],
      "text/plain": [
       "     GarageType  GarageYrBlt GarageFinish  GarageCars  GarageArea GarageQual  \\\n",
       "2126     Detchd          NaN          NaN         1.0       360.0        NaN   \n",
       "2576     Detchd          NaN          NaN         NaN         NaN        NaN   \n",
       "\n",
       "     GarageCond  \n",
       "2126        NaN  \n",
       "2576        NaN  "
      ]
     },
     "execution_count": 17,
     "metadata": {},
     "output_type": "execute_result"
    }
   ],
   "source": [
    "grg[grg['GarageCond'].isnull()]"
   ]
  },
  {
   "cell_type": "code",
   "execution_count": 22,
   "metadata": {
    "collapsed": true
   },
   "outputs": [
    {
     "name": "stdout",
     "output_type": "stream",
     "text": [
      "Unf    719\n",
      "RFn     34\n",
      "Fin     24\n",
      "Name: GarageFinish, dtype: int64\n",
      "TA    667\n",
      "Fa     97\n",
      "Gd      5\n",
      "Po      5\n",
      "Ex      3\n",
      "Name: GarageQual, dtype: int64\n",
      "TA    692\n",
      "Fa     67\n",
      "Po     12\n",
      "Ex      3\n",
      "Gd      3\n",
      "Name: GarageCond, dtype: int64\n",
      "2.0\n",
      "419.492287918\n"
     ]
    }
   ],
   "source": [
    "print df.loc[(df['GarageType'] == 'Detchd') ,'GarageFinish'].value_counts()\n",
    "print df.loc[(df['GarageType'] == 'Detchd') ,'GarageQual'].value_counts()\n",
    "print df.loc[(df['GarageType'] == 'Detchd') ,'GarageCond'].value_counts()\n",
    "print df.loc[(df['GarageType'] == 'Detchd'),'GarageCars'].median()\n",
    "print df.loc[(df['GarageType'] == 'Detchd'),'GarageArea'].mean()"
   ]
  },
  {
   "cell_type": "code",
   "execution_count": 16,
   "metadata": {
    "collapsed": true
   },
   "outputs": [],
   "source": [
    "grg.loc[(2126,2576),'GarageFinish'] = 'Unf'\n",
    "grg.loc[(2126,2576),'GarageQual'] = 'TA'\n",
    "grg.loc[(2126,2576),'GarageCond'] = \"TA\"\n",
    "grg.loc[(2126,2576),'GarageYrBlt'] = df.loc[(2126,2576),'YearBuilt']\n",
    "grg.loc[2576,'GarageCars'] = grg.loc[(grg['GarageType'] == 'Detchd'),'GarageCars'].median()\n",
    "grg.loc[2576,'GarageArea'] = grg.loc[(grg['GarageType'] == 'Detchd'),'GarageArea'].mean()"
   ]
  },
  {
   "cell_type": "code",
   "execution_count": 17,
   "metadata": {
    "collapsed": true
   },
   "outputs": [],
   "source": [
    "df[grg.columns] = grg"
   ]
  },
  {
   "cell_type": "code",
   "execution_count": 25,
   "metadata": {
    "collapsed": true
   },
   "outputs": [
    {
     "data": {
      "text/html": [
       "<div>\n",
       "<table border=\"1\" class=\"dataframe\">\n",
       "  <thead>\n",
       "    <tr style=\"text-align: right;\">\n",
       "      <th></th>\n",
       "      <th>MasVnrArea</th>\n",
       "      <th>MasVnrType</th>\n",
       "    </tr>\n",
       "  </thead>\n",
       "  <tbody>\n",
       "    <tr>\n",
       "      <th>234</th>\n",
       "      <td>NaN</td>\n",
       "      <td>NaN</td>\n",
       "    </tr>\n",
       "    <tr>\n",
       "      <th>529</th>\n",
       "      <td>NaN</td>\n",
       "      <td>NaN</td>\n",
       "    </tr>\n",
       "    <tr>\n",
       "      <th>650</th>\n",
       "      <td>NaN</td>\n",
       "      <td>NaN</td>\n",
       "    </tr>\n",
       "    <tr>\n",
       "      <th>936</th>\n",
       "      <td>NaN</td>\n",
       "      <td>NaN</td>\n",
       "    </tr>\n",
       "    <tr>\n",
       "      <th>973</th>\n",
       "      <td>NaN</td>\n",
       "      <td>NaN</td>\n",
       "    </tr>\n",
       "    <tr>\n",
       "      <th>977</th>\n",
       "      <td>NaN</td>\n",
       "      <td>NaN</td>\n",
       "    </tr>\n",
       "    <tr>\n",
       "      <th>1243</th>\n",
       "      <td>NaN</td>\n",
       "      <td>NaN</td>\n",
       "    </tr>\n",
       "    <tr>\n",
       "      <th>1278</th>\n",
       "      <td>NaN</td>\n",
       "      <td>NaN</td>\n",
       "    </tr>\n",
       "    <tr>\n",
       "      <th>1691</th>\n",
       "      <td>NaN</td>\n",
       "      <td>NaN</td>\n",
       "    </tr>\n",
       "    <tr>\n",
       "      <th>1706</th>\n",
       "      <td>NaN</td>\n",
       "      <td>NaN</td>\n",
       "    </tr>\n",
       "    <tr>\n",
       "      <th>1882</th>\n",
       "      <td>NaN</td>\n",
       "      <td>NaN</td>\n",
       "    </tr>\n",
       "    <tr>\n",
       "      <th>1992</th>\n",
       "      <td>NaN</td>\n",
       "      <td>NaN</td>\n",
       "    </tr>\n",
       "    <tr>\n",
       "      <th>2004</th>\n",
       "      <td>NaN</td>\n",
       "      <td>NaN</td>\n",
       "    </tr>\n",
       "    <tr>\n",
       "      <th>2041</th>\n",
       "      <td>NaN</td>\n",
       "      <td>NaN</td>\n",
       "    </tr>\n",
       "    <tr>\n",
       "      <th>2311</th>\n",
       "      <td>NaN</td>\n",
       "      <td>NaN</td>\n",
       "    </tr>\n",
       "    <tr>\n",
       "      <th>2325</th>\n",
       "      <td>NaN</td>\n",
       "      <td>NaN</td>\n",
       "    </tr>\n",
       "    <tr>\n",
       "      <th>2340</th>\n",
       "      <td>NaN</td>\n",
       "      <td>NaN</td>\n",
       "    </tr>\n",
       "    <tr>\n",
       "      <th>2349</th>\n",
       "      <td>NaN</td>\n",
       "      <td>NaN</td>\n",
       "    </tr>\n",
       "    <tr>\n",
       "      <th>2368</th>\n",
       "      <td>NaN</td>\n",
       "      <td>NaN</td>\n",
       "    </tr>\n",
       "    <tr>\n",
       "      <th>2592</th>\n",
       "      <td>NaN</td>\n",
       "      <td>NaN</td>\n",
       "    </tr>\n",
       "    <tr>\n",
       "      <th>2610</th>\n",
       "      <td>198.0</td>\n",
       "      <td>NaN</td>\n",
       "    </tr>\n",
       "    <tr>\n",
       "      <th>2657</th>\n",
       "      <td>NaN</td>\n",
       "      <td>NaN</td>\n",
       "    </tr>\n",
       "    <tr>\n",
       "      <th>2686</th>\n",
       "      <td>NaN</td>\n",
       "      <td>NaN</td>\n",
       "    </tr>\n",
       "    <tr>\n",
       "      <th>2862</th>\n",
       "      <td>NaN</td>\n",
       "      <td>NaN</td>\n",
       "    </tr>\n",
       "  </tbody>\n",
       "</table>\n",
       "</div>"
      ],
      "text/plain": [
       "      MasVnrArea MasVnrType\n",
       "234          NaN        NaN\n",
       "529          NaN        NaN\n",
       "650          NaN        NaN\n",
       "936          NaN        NaN\n",
       "973          NaN        NaN\n",
       "977          NaN        NaN\n",
       "1243         NaN        NaN\n",
       "1278         NaN        NaN\n",
       "1691         NaN        NaN\n",
       "1706         NaN        NaN\n",
       "1882         NaN        NaN\n",
       "1992         NaN        NaN\n",
       "2004         NaN        NaN\n",
       "2041         NaN        NaN\n",
       "2311         NaN        NaN\n",
       "2325         NaN        NaN\n",
       "2340         NaN        NaN\n",
       "2349         NaN        NaN\n",
       "2368         NaN        NaN\n",
       "2592         NaN        NaN\n",
       "2610       198.0        NaN\n",
       "2657         NaN        NaN\n",
       "2686         NaN        NaN\n",
       "2862         NaN        NaN"
      ]
     },
     "execution_count": 25,
     "metadata": {},
     "output_type": "execute_result"
    }
   ],
   "source": [
    "df.loc[df['MasVnrType'].isnull(),['MasVnrArea','MasVnrType']]"
   ]
  },
  {
   "cell_type": "code",
   "execution_count": 26,
   "metadata": {
    "collapsed": true
   },
   "outputs": [
    {
     "name": "stdout",
     "output_type": "stream",
     "text": [
      "MasVnrType\n",
      "BrkCmn     161.0\n",
      "BrkFace    203.0\n",
      "None         0.0\n",
      "Stone      200.0\n",
      "Name: MasVnrArea, dtype: float64\n",
      "MasVnrType\n",
      "BrkCmn       25\n",
      "BrkFace     879\n",
      "None       1742\n",
      "Stone       249\n",
      "Name: MasVnrArea, dtype: int64\n"
     ]
    }
   ],
   "source": [
    "print df.groupby('MasVnrType')['MasVnrArea'].median()\n",
    "print df.groupby('MasVnrType')['MasVnrArea'].count()"
   ]
  },
  {
   "cell_type": "code",
   "execution_count": 18,
   "metadata": {
    "collapsed": true
   },
   "outputs": [],
   "source": [
    "df['MasVnrArea'].fillna(0,inplace = True)\n",
    "df.loc[2610,'MasVnrType'] = 'BrkFace'"
   ]
  },
  {
   "cell_type": "code",
   "execution_count": 19,
   "metadata": {
    "collapsed": true
   },
   "outputs": [],
   "source": [
    "df['MasVnrType'].fillna(\"None\",inplace = True)"
   ]
  },
  {
   "cell_type": "code",
   "execution_count": 29,
   "metadata": {
    "collapsed": false
   },
   "outputs": [
    {
     "data": {
      "text/html": [
       "<div>\n",
       "<table border=\"1\" class=\"dataframe\">\n",
       "  <thead>\n",
       "    <tr style=\"text-align: right;\">\n",
       "      <th></th>\n",
       "      <th>SaleCondition</th>\n",
       "      <th>SaleType</th>\n",
       "    </tr>\n",
       "  </thead>\n",
       "  <tbody>\n",
       "    <tr>\n",
       "      <th>2489</th>\n",
       "      <td>Normal</td>\n",
       "      <td>NaN</td>\n",
       "    </tr>\n",
       "  </tbody>\n",
       "</table>\n",
       "</div>"
      ],
      "text/plain": [
       "     SaleCondition SaleType\n",
       "2489        Normal      NaN"
      ]
     },
     "execution_count": 29,
     "metadata": {},
     "output_type": "execute_result"
    }
   ],
   "source": [
    "df.loc[df['SaleType'].isnull(),['SaleCondition','SaleType']]"
   ]
  },
  {
   "cell_type": "code",
   "execution_count": 20,
   "metadata": {
    "collapsed": false,
    "scrolled": true
   },
   "outputs": [
    {
     "name": "stdout",
     "output_type": "stream",
     "text": [
      "SaleCondition  Abnorml  AdjLand  Alloca  Family  Normal  Partial\n",
      "SaleType                                                        \n",
      "COD                 46        0       0       2      39        0\n",
      "CWD                  1        0       0       1      10        0\n",
      "Con                  0        0       0       0       4        1\n",
      "ConLD                3        0       0       1      21        1\n",
      "ConLI                2        0       0       2       5        0\n",
      "ConLw                0        0       0       1       7        0\n",
      "New                  0        0       0       0       0      239\n",
      "Oth                  5        0       0       1       1        0\n",
      "WD                 133       12      24      38    2314        4\n"
     ]
    }
   ],
   "source": [
    "print pd.crosstab(df['SaleType'],df['SaleCondition'])\n",
    "df['SaleType'].fillna('WD',inplace = True)"
   ]
  },
  {
   "cell_type": "code",
   "execution_count": 31,
   "metadata": {
    "collapsed": false
   },
   "outputs": [
    {
     "data": {
      "text/html": [
       "<div>\n",
       "<table border=\"1\" class=\"dataframe\">\n",
       "  <thead>\n",
       "    <tr style=\"text-align: right;\">\n",
       "      <th></th>\n",
       "      <th>MiscVal</th>\n",
       "      <th>MiscFeature</th>\n",
       "    </tr>\n",
       "  </thead>\n",
       "  <tbody>\n",
       "    <tr>\n",
       "      <th>2549</th>\n",
       "      <td>17000</td>\n",
       "      <td>NaN</td>\n",
       "    </tr>\n",
       "  </tbody>\n",
       "</table>\n",
       "</div>"
      ],
      "text/plain": [
       "      MiscVal MiscFeature\n",
       "2549    17000         NaN"
      ]
     },
     "execution_count": 31,
     "metadata": {},
     "output_type": "execute_result"
    }
   ],
   "source": [
    "df.loc[(df['MiscFeature'].isnull()) & (df['MiscVal'] != 0),['MiscVal','MiscFeature']]"
   ]
  },
  {
   "cell_type": "code",
   "execution_count": 21,
   "metadata": {
    "collapsed": false,
    "scrolled": true
   },
   "outputs": [
    {
     "data": {
      "text/plain": [
       "MiscFeature\n",
       "Gar2    8760.0\n",
       "Othr    3250.0\n",
       "Shed     763.8\n",
       "TenC    2000.0\n",
       "Name: MiscVal, dtype: float64"
      ]
     },
     "execution_count": 21,
     "metadata": {},
     "output_type": "execute_result"
    }
   ],
   "source": [
    "df.groupby('MiscFeature')['MiscVal'].mean()\n",
    "# It`s not even close to actual value thus we can modify entire MiscFeature to None"
   ]
  },
  {
   "cell_type": "code",
   "execution_count": 21,
   "metadata": {
    "collapsed": true
   },
   "outputs": [],
   "source": [
    "df.loc[df['MiscFeature'].isnull(),'MiscVal'] = 0\n",
    "df['MiscFeature'].fillna('None', inplace = True)"
   ]
  },
  {
   "cell_type": "code",
   "execution_count": 22,
   "metadata": {
    "collapsed": true
   },
   "outputs": [],
   "source": [
    "df['Fence'].fillna('No Fence', inplace = True)"
   ]
  },
  {
   "cell_type": "code",
   "execution_count": 35,
   "metadata": {
    "collapsed": false
   },
   "outputs": [
    {
     "data": {
      "text/html": [
       "<div>\n",
       "<table border=\"1\" class=\"dataframe\">\n",
       "  <thead>\n",
       "    <tr style=\"text-align: right;\">\n",
       "      <th></th>\n",
       "      <th>PoolArea</th>\n",
       "      <th>PoolQC</th>\n",
       "    </tr>\n",
       "  </thead>\n",
       "  <tbody>\n",
       "    <tr>\n",
       "      <th>2420</th>\n",
       "      <td>368</td>\n",
       "      <td>NaN</td>\n",
       "    </tr>\n",
       "    <tr>\n",
       "      <th>2503</th>\n",
       "      <td>444</td>\n",
       "      <td>NaN</td>\n",
       "    </tr>\n",
       "    <tr>\n",
       "      <th>2599</th>\n",
       "      <td>561</td>\n",
       "      <td>NaN</td>\n",
       "    </tr>\n",
       "  </tbody>\n",
       "</table>\n",
       "</div>"
      ],
      "text/plain": [
       "      PoolArea PoolQC\n",
       "2420       368    NaN\n",
       "2503       444    NaN\n",
       "2599       561    NaN"
      ]
     },
     "execution_count": 35,
     "metadata": {},
     "output_type": "execute_result"
    }
   ],
   "source": [
    "df.loc[(df['PoolQC'].isnull()) & (df['PoolArea'] != 0),['PoolArea','PoolQC']]"
   ]
  },
  {
   "cell_type": "code",
   "execution_count": 36,
   "metadata": {
    "collapsed": false
   },
   "outputs": [
    {
     "data": {
      "text/plain": [
       "PoolQC\n",
       "Ex    370.0\n",
       "Fa    583.5\n",
       "Gd    657.0\n",
       "Name: PoolArea, dtype: float64"
      ]
     },
     "execution_count": 36,
     "metadata": {},
     "output_type": "execute_result"
    }
   ],
   "source": [
    "df.groupby('PoolQC')['PoolArea'].median()"
   ]
  },
  {
   "cell_type": "code",
   "execution_count": 37,
   "metadata": {
    "collapsed": false,
    "scrolled": true
   },
   "outputs": [
    {
     "data": {
      "text/plain": [
       "<matplotlib.axes._subplots.AxesSubplot at 0xa8b7cb0>"
      ]
     },
     "execution_count": 37,
     "metadata": {},
     "output_type": "execute_result"
    },
    {
     "data": {
      "image/png": "[encoded data removed]",
      "text/plain": [
       "<matplotlib.figure.Figure at 0xa882cd0>"
      ]
     },
     "metadata": {},
     "output_type": "display_data"
    }
   ],
   "source": [
    "sns.boxplot(x= 'PoolQC', y = 'PoolArea', data = df)"
   ]
  },
  {
   "cell_type": "code",
   "execution_count": 23,
   "metadata": {
    "collapsed": true
   },
   "outputs": [],
   "source": [
    "df.loc[(2420,2503),'PoolQC'] = 'Ex'\n",
    "df.loc[2599,'PoolQC'] = 'Fa'\n",
    "df[\"PoolQC\"].fillna(\"No Pool\", inplace = True)"
   ]
  },
  {
   "cell_type": "code",
   "execution_count": 39,
   "metadata": {
    "collapsed": false
   },
   "outputs": [
    {
     "data": {
      "text/html": [
       "<div>\n",
       "<table border=\"1\" class=\"dataframe\">\n",
       "  <thead>\n",
       "    <tr style=\"text-align: right;\">\n",
       "      <th></th>\n",
       "      <th>Fireplaces</th>\n",
       "      <th>FireplaceQC</th>\n",
       "    </tr>\n",
       "  </thead>\n",
       "  <tbody>\n",
       "  </tbody>\n",
       "</table>\n",
       "</div>"
      ],
      "text/plain": [
       "Empty DataFrame\n",
       "Columns: [Fireplaces, FireplaceQC]\n",
       "Index: []"
      ]
     },
     "execution_count": 39,
     "metadata": {},
     "output_type": "execute_result"
    }
   ],
   "source": [
    "df.loc[(df['FireplaceQu'].isnull()) & (df['Fireplaces'] != 0),['Fireplaces','FireplaceQC']]"
   ]
  },
  {
   "cell_type": "code",
   "execution_count": 24,
   "metadata": {
    "collapsed": true
   },
   "outputs": [],
   "source": [
    "df[\"FireplaceQu\"].fillna(\"No Fireplace\", inplace = True)"
   ]
  },
  {
   "cell_type": "code",
   "execution_count": 25,
   "metadata": {
    "collapsed": true
   },
   "outputs": [],
   "source": [
    "df[\"Alley\"].fillna(\"No Alley\", inplace = True)"
   ]
  },
  {
   "cell_type": "code",
   "execution_count": 26,
   "metadata": {
    "collapsed": false
   },
   "outputs": [
    {
     "data": {
      "image/png": "[encoded data removed]",
      "text/plain": [
       "<matplotlib.figure.Figure at 0xa6c4ed0>"
      ]
     },
     "metadata": {},
     "output_type": "display_data"
    }
   ],
   "source": [
    "sns.countplot(df['Utilities'])\n",
    "# Not that useful as except 1 value rest everything is \"AllPub\" category, Thus dropping this column\n",
    "df.drop('Utilities',1,inplace = True)"
   ]
  },
  {
   "cell_type": "code",
   "execution_count": 27,
   "metadata": {
    "collapsed": false,
    "scrolled": true
   },
   "outputs": [
    {
     "data": {
      "image/png": "[encoded data removed]",
      "text/plain": [
       "<matplotlib.figure.Figure at 0xab9aa70>"
      ]
     },
     "metadata": {},
     "output_type": "display_data"
    }
   ],
   "source": [
    "sns.countplot(df['Functional'])\n",
    "# Filling the Na's with the most common value\n",
    "df[\"Functional\"].fillna(\"Typ\", inplace = True)"
   ]
  },
  {
   "cell_type": "code",
   "execution_count": 28,
   "metadata": {
    "collapsed": true
   },
   "outputs": [],
   "source": [
    "df[\"Exterior1st\"].fillna(\"VinylSd\", inplace = True)\n",
    "df[\"Exterior2nd\"].fillna(\"VinylSd\", inplace = True)\n",
    "df[\"Electrical\"].fillna(\"SBrkr\", inplace = True)\n",
    "df[\"KitchenQual\"].fillna(\"TA\", inplace = True)"
   ]
  },
  {
   "cell_type": "code",
   "execution_count": 29,
   "metadata": {
    "collapsed": false,
    "scrolled": true
   },
   "outputs": [
    {
     "data": {
      "text/plain": [
       "Series([], dtype: int64)"
      ]
     },
     "execution_count": 29,
     "metadata": {},
     "output_type": "execute_result"
    }
   ],
   "source": [
    "df.isnull().sum()[df.isnull().sum() > 0]"
   ]
  },
  {
   "cell_type": "markdown",
   "metadata": {},
   "source": [
    "## Machine Learning Algorithms:"
   ]
  },
  {
   "cell_type": "markdown",
   "metadata": {},
   "source": [
    "### Feature Selection:"
   ]
  },
  {
   "cell_type": "markdown",
   "metadata": {},
   "source": [
    "Now let's change categorical variables into numerical equivalents helpful for SalePrice measurement. "
   ]
  },
  {
   "cell_type": "code",
   "execution_count": 47,
   "metadata": {
    "collapsed": false,
    "scrolled": true
   },
   "outputs": [
    {
     "data": {
      "text/plain": [
       "Index([u'Id', u'MSSubClass', u'MSZoning', u'LotArea', u'Street', u'Alley',\n",
       "       u'LotShape', u'LandContour', u'LotConfig', u'LandSlope',\n",
       "       u'Neighborhood', u'Condition1', u'Condition2', u'BldgType',\n",
       "       u'HouseStyle', u'OverallQual', u'OverallCond', u'YearBuilt',\n",
       "       u'YearRemodAdd', u'RoofStyle', u'RoofMatl', u'Exterior1st',\n",
       "       u'Exterior2nd', u'MasVnrType', u'MasVnrArea', u'ExterQual',\n",
       "       u'ExterCond', u'Foundation', u'BsmtQual', u'BsmtCond', u'BsmtExposure',\n",
       "       u'BsmtFinType1', u'BsmtFinSF1', u'BsmtFinType2', u'BsmtFinSF2',\n",
       "       u'BsmtUnfSF', u'TotalBsmtSF', u'Heating', u'HeatingQC', u'CentralAir',\n",
       "       u'Electrical', u'1stFlrSF', u'2ndFlrSF', u'LowQualFinSF', u'GrLivArea',\n",
       "       u'BsmtFullBath', u'BsmtHalfBath', u'FullBath', u'HalfBath',\n",
       "       u'BedroomAbvGr', u'KitchenAbvGr', u'KitchenQual', u'TotRmsAbvGrd',\n",
       "       u'Functional', u'Fireplaces', u'FireplaceQu', u'GarageType',\n",
       "       u'GarageYrBlt', u'GarageFinish', u'GarageCars', u'GarageArea',\n",
       "       u'GarageQual', u'GarageCond', u'PavedDrive', u'WoodDeckSF',\n",
       "       u'OpenPorchSF', u'EnclosedPorch', u'3SsnPorch', u'ScreenPorch',\n",
       "       u'PoolArea', u'PoolQC', u'Fence', u'MiscFeature', u'MiscVal', u'MoSold',\n",
       "       u'YrSold', u'SaleType', u'SaleCondition', u'Mod_LotFrontage'],\n",
       "      dtype='object')"
      ]
     },
     "execution_count": 47,
     "metadata": {},
     "output_type": "execute_result"
    }
   ],
   "source": [
    "df.columns"
   ]
  },
  {
   "cell_type": "code",
   "execution_count": 31,
   "metadata": {
    "collapsed": false
   },
   "outputs": [],
   "source": [
    "train_mod = df.loc[0:1459,]"
   ]
  },
  {
   "cell_type": "code",
   "execution_count": 32,
   "metadata": {
    "collapsed": false
   },
   "outputs": [
    {
     "name": "stderr",
     "output_type": "stream",
     "text": [
      "C:\\Users\\vchanumo\\AppData\\Local\\Continuum\\Anaconda2\\lib\\site-packages\\ipykernel\\__main__.py:1: SettingWithCopyWarning: \n",
      "A value is trying to be set on a copy of a slice from a DataFrame.\n",
      "Try using .loc[row_indexer,col_indexer] = value instead\n",
      "\n",
      "See the caveats in the documentation: http://pandas.pydata.org/pandas-docs/stable/indexing.html#indexing-view-versus-copy\n",
      "  if __name__ == '__main__':\n"
     ]
    }
   ],
   "source": [
    "train_mod['SalePrice'] = train.SalePrice.copy()"
   ]
  },
  {
   "cell_type": "code",
   "execution_count": 48,
   "metadata": {
    "collapsed": false
   },
   "outputs": [
    {
     "data": {
      "text/plain": [
       "Index([u'Id', u'MSSubClass', u'LotFrontage', u'LotArea', u'OverallQual',\n",
       "       u'OverallCond', u'YearBuilt', u'YearRemodAdd', u'MasVnrArea',\n",
       "       u'BsmtFinSF1', u'BsmtFinSF2', u'BsmtUnfSF', u'TotalBsmtSF', u'1stFlrSF',\n",
       "       u'2ndFlrSF', u'LowQualFinSF', u'GrLivArea', u'BsmtFullBath',\n",
       "       u'BsmtHalfBath', u'FullBath', u'HalfBath', u'BedroomAbvGr',\n",
       "       u'KitchenAbvGr', u'TotRmsAbvGrd', u'Fireplaces', u'GarageYrBlt',\n",
       "       u'GarageCars', u'GarageArea', u'WoodDeckSF', u'OpenPorchSF',\n",
       "       u'EnclosedPorch', u'3SsnPorch', u'ScreenPorch', u'PoolArea', u'MiscVal',\n",
       "       u'MoSold', u'YrSold'],\n",
       "      dtype='object')"
      ]
     },
     "execution_count": 48,
     "metadata": {},
     "output_type": "execute_result"
    }
   ],
   "source": [
    "num_col"
   ]
  },
  {
   "cell_type": "code",
   "execution_count": null,
   "metadata": {
    "collapsed": true
   },
   "outputs": [],
   "source": [
    "'OverallQual': {'1':1, '2':2, '3':3, '4':4, '5':5, '6':6, '7':7, '8':8, '9':9, '10':10},\n",
    "'OverallCond': {'1':1, '2':2, '3':3, '4':4, '5':5, '6':6, '7':7, '8':8, '9':9, '10':10},"
   ]
  },
  {
   "cell_type": "code",
   "execution_count": 30,
   "metadata": {
    "collapsed": false,
    "scrolled": true
   },
   "outputs": [],
   "source": [
    "## Simple Ordinal features\n",
    "\n",
    "df = df.replace({'ExterQual': {'Ex':5, 'Gd':4, 'TA':3, 'Fa':2, 'Po':1},\n",
    "                 'ExterCond': {'Ex':5, 'Gd':4, 'TA':3, 'Fa':2, 'Po':1},\n",
    "                 'BsmtQual': {'Ex':5, 'Gd':4, 'TA':3, 'Fa':2, 'Po':1 ,'No Basement': 0},\n",
    "                 'BsmtCond': {'Ex':5, 'Gd':4, 'TA':3, 'Fa':2, 'Po':1 ,'No Basement': 0},\n",
    "                 'BsmtExposure': {'Gd':4, 'Av':3, 'Mn':2, 'No':1, 'No Basement':0},\n",
    "                 'GarageQual': {'Ex':5, 'Gd':4, 'TA':3, 'Fa':2, 'Po':1 ,'No Garage': 0},\n",
    "                 'GarageCond': {'Ex':5, 'Gd':4, 'TA':3, 'Fa':2, 'Po':1 ,'No Garage': 0},\n",
    "                 'HeatingQC': {'Ex':5, 'Gd':4, 'TA':3, 'Fa':2, 'Po':1},\n",
    "                 'KitchenQual': {'Ex':5, 'Gd':4, 'TA':3, 'Fa':2, 'Po':1},\n",
    "                 'FireplaceQu': {'Ex':5, 'Gd':4, 'TA':3, 'Fa':2, 'Po':1 ,'No Fireplace': 0},\n",
    "                 'PoolQC': {'Ex':3, 'Gd':2, 'Fa':1, 'No Pool': 0}})\n",
    "\n",
    "\n",
    "## Intuitive ordinal Features\n",
    "df = df.replace({'PavedDrive': {'Y':2,'P':1, 'N':0},\n",
    "                 'CentralAir': {'Y':1,'N':0},\n",
    "                 'Street': {'Pave':1,'Grvl':0},\n",
    "                 'Alley': {'No Alley' : 0,'Grvl' : 1, 'Pave' : 2}})\n",
    "\n",
    "## Nominal Features\n",
    "df = df.replace({'Electrical': {\"SBrkr\":5, \"FuseA\":4, \"FuseF\":3, \"FuseP\":2, \"Mix\":1},\n",
    "                 'Functional': {\"Typ\":7, \"Min1\":6, \"Min2\":5, \"Mod\":4, \"Maj1\":3, \"Maj2\":2, \"Sev\":1},\n",
    "                 'Fence': {'GdPrv':4,'MnPrv':3, 'GdWo':2, 'MnWw':1, 'No Fence': 0},\n",
    "                 'MiscFeature': {'None':0, 'Othr':1, 'Shed':2, 'Gar2':2, 'TenC':2},\n",
    "                 'MSZoning': {'C (all)':0, 'FV':2, 'RH':1, 'RM':1, 'RL':2},\n",
    "                 'LotShape': {'Reg':1, 'IR1':2, 'IR2':2, 'IR3':2},\n",
    "                 'LandContour': {'HLS':3, 'Low':2, 'Lvl':1, 'Bnk':1},\n",
    "                 'LotConfig': {'Inside':1, 'Corner':2, 'CulDSac':3, 'FR2':1, 'FR3':3},\n",
    "                 'LandSlope': {'Gtl':1, 'Mod':2, 'Sev':3},\n",
    "                 'BldgType': {'1Fam':3, '2fmCon':1, 'Duplex':2, 'Twnhs':2, 'TwnhsE':3},\n",
    "                 'HouseStyle': {'1Story':2, '2Story':3, '1.5Fin':2, '1.5Unf':1, '2.5Fin':3, '2.5Unf':2, 'SLvl':2, 'SFoyer':1},\n",
    "                 'RoofStyle': {'Gambrel':1, 'Gable':1, 'Mansard':1, 'Flat':2, 'Hip':2, 'Shed':2},\n",
    "                 'RoofMatl': {'CompShg':1, 'Tar&Grv':2, 'WdShake':2, 'WdShngl':2, 'Membran':2, 'ClyTile':1, 'Metal':1, 'Roll':1},\n",
    "                 'MasVnrType': {'BrkCmn':1, 'BrkFace':2, 'Stone':3, 'None':0},\n",
    "                 'Foundation': {'PConc':3, 'Wood':2, 'Slab':1, 'Stone':2, 'CBlock':1, 'BrkTil':1},\n",
    "                 'Heating': {'Floor':1, 'Grav':2, 'Wall':2, 'OthW':3, 'GasW':4, 'GasA':4},\n",
    "                 'BsmtFinType1': {'No Basement':0, 'Unf':3, 'LwQ':1, 'Rec':1, 'BLQ':1, 'ALQ':2, 'GLQ':4},\n",
    "                 'BsmtFinType2': {'No Basement':0, 'Unf':2, 'LwQ':1, 'Rec':1, 'BLQ':1, 'ALQ':3, 'GLQ':2},\n",
    "                 'GarageType': {'No Garage':0, 'CarPort':1, 'Detchd':2, '2Types':3, 'Basment':4, 'Attchd':5, 'BuiltIn':6},\n",
    "                 'GarageFinish': {'No Garage':0, 'Unf':1, 'RFn':2, 'Fin':3},\n",
    "                 'SaleType':{'Oth':1, 'ConLD':1, 'ConLw':1, 'COD':1, 'WD':2, 'ConLI':1, 'CWD':2, 'Con':3, 'New':3},\n",
    "                 'SaleCondition': {'AdjLand':1, 'Abnorml':2, 'Family':2, 'Alloca':3, 'Normal':3, 'Partial':4},\n",
    "                 'Condition1': {'Artery':1, 'RRAe':1, 'Feedr':1, 'RRAn':2, 'Norm':2, 'RRNe':2, 'RRNn':3, 'PosN':3, 'PosA':3},\n",
    "                 'Condition2': {'Artery':1, 'RRAe':3, 'Feedr':2, 'RRAn':2, 'Norm':3, 'RRNn':1, 'PosN':4, 'PosA':4},\n",
    "                 'Exterior1st': {'BrkComm':1, 'AsphShn':1, 'CBlock':1, 'AsbShng':1, 'MetalSd':2, 'Wd Sdng':2, 'WdShing':2, \n",
    "                                 'Stucco':2, 'HdBoard':2, 'Plywood':2, 'BrkFace':2, 'VinylSd':3, 'CemntBd':3, 'Stone':3, \n",
    "                                 'ImStucc':3},\n",
    "                 'Exterior2nd': {'CBlock':1, 'AsbShng':1, 'Brk Cmn':1, 'AsphShn':1, 'Wd Sdng':2, 'MetalSd':2, 'Stucco':2,\n",
    "                                 'Stone':2, 'Wd Shng':2, 'HdBoard':2, 'Plywood':2, 'BrkFace':3, 'VinylSd':3, 'CmentBd':3, \n",
    "                                 'ImStucc':3, 'Other':3},\n",
    "                 'Neighborhood': {'MeadowV':1, 'IDOTRR':1, 'BrDale':1, 'BrkSide':1, 'Edwards':1, 'OldTown':1, 'Sawyer':1, \n",
    "                                  'Blueste':1, 'SWISU':2, 'NPkVill':2, 'NAmes':2, 'Mitchel':2, 'SawyerW':2, 'NWAmes':2, \n",
    "                                  'Gilbert':2, 'Blmngtn':2, 'CollgCr':2, 'Crawfor':3, 'ClearCr':3, 'Somerst':3, 'Veenker':3, \n",
    "                                  'Timber':3, 'StoneBr':4, 'NridgHt':4, 'NoRidge':4}})"
   ]
  },
  {
   "cell_type": "code",
   "execution_count": 33,
   "metadata": {
    "collapsed": false
   },
   "outputs": [
    {
     "data": {
      "text/plain": [
       "Index([], dtype='object')"
      ]
     },
     "execution_count": 33,
     "metadata": {},
     "output_type": "execute_result"
    }
   ],
   "source": [
    "df.columns[df.dtypes == np.object]"
   ]
  },
  {
   "cell_type": "code",
   "execution_count": 31,
   "metadata": {
    "collapsed": true
   },
   "outputs": [],
   "source": [
    "mod_train = df.loc[0:1459,]"
   ]
  },
  {
   "cell_type": "code",
   "execution_count": 32,
   "metadata": {
    "collapsed": false
   },
   "outputs": [
    {
     "name": "stderr",
     "output_type": "stream",
     "text": [
      "C:\\Users\\vchanumo\\AppData\\Local\\Continuum\\Anaconda2\\lib\\site-packages\\ipykernel\\__main__.py:1: SettingWithCopyWarning: \n",
      "A value is trying to be set on a copy of a slice from a DataFrame.\n",
      "Try using .loc[row_indexer,col_indexer] = value instead\n",
      "\n",
      "See the caveats in the documentation: http://pandas.pydata.org/pandas-docs/stable/indexing.html#indexing-view-versus-copy\n",
      "  if __name__ == '__main__':\n"
     ]
    }
   ],
   "source": [
    "mod_train['SalePrice'] = train['SalePrice']"
   ]
  },
  {
   "cell_type": "code",
   "execution_count": 34,
   "metadata": {
    "collapsed": false,
    "scrolled": true
   },
   "outputs": [
    {
     "data": {
      "text/plain": [
       "<matplotlib.axes._subplots.AxesSubplot at 0xce11810>"
      ]
     },
     "execution_count": 34,
     "metadata": {},
     "output_type": "execute_result"
    },
    {
     "data": {
      "image/png": "[encoded data removed]",
      "text/plain": [
       "<matplotlib.figure.Figure at 0xce11270>"
      ]
     },
     "metadata": {},
     "output_type": "display_data"
    }
   ],
   "source": [
    "correlation_tab = mod_train.corr()\n",
    "plt.figure(figsize=(12,12))\n",
    "sns.heatmap(correlation_tab, vmax=1, square=True)"
   ]
  },
  {
   "cell_type": "code",
   "execution_count": 35,
   "metadata": {
    "collapsed": false
   },
   "outputs": [
    {
     "data": {
      "text/plain": [
       "{'1stFlrSF': 0.6058521846919166,\n",
       " 'BsmtFinType1': 0.41495340351049781,\n",
       " 'BsmtQual': 0.58520719917251485,\n",
       " 'ExterQual': 0.68263924165625911,\n",
       " 'FireplaceQu': 0.52043760595040067,\n",
       " 'Fireplaces': 0.46692883675152419,\n",
       " 'Foundation': 0.49829122303224765,\n",
       " 'FullBath': 0.5606637627484452,\n",
       " 'GarageArea': 0.62343143891835984,\n",
       " 'GarageCars': 0.64040919725834899,\n",
       " 'GarageFinish': 0.5492467563332154,\n",
       " 'GarageType': 0.48912998736754948,\n",
       " 'GrLivArea': 0.70862447761265113,\n",
       " 'HeatingQC': 0.42764870739880489,\n",
       " 'KitchenQual': 0.65959972072865725,\n",
       " 'MasVnrArea': 0.47261449900457725,\n",
       " 'MasVnrType': 0.41179790894133184,\n",
       " 'Neighborhood': 0.69129841935332448,\n",
       " 'OverallQual': 0.79098160058380473,\n",
       " 'TotRmsAbvGrd': 0.53372315558202377,\n",
       " 'TotalBsmtSF': 0.61358055155919444,\n",
       " 'YearBuilt': 0.52289733287949669,\n",
       " 'YearRemodAdd': 0.50710096711138675}"
      ]
     },
     "execution_count": 35,
     "metadata": {},
     "output_type": "execute_result"
    }
   ],
   "source": [
    "sale_price_tab = correlation_tab['SalePrice'].to_dict()\n",
    "del sale_price_tab['SalePrice']\n",
    "high_cor_tab = {i:sale_price_tab[i] for i in sale_price_tab.keys() if sale_price_tab[i] > 0.4 or sale_price_tab[i] < -0.4}\n",
    "high_cor_tab"
   ]
  },
  {
   "cell_type": "code",
   "execution_count": 36,
   "metadata": {
    "collapsed": false
   },
   "outputs": [
    {
     "data": {
      "text/plain": [
       "OrderedDict([('OverallQual', 0.79098160058380473),\n",
       "             ('GrLivArea', 0.70862447761265113),\n",
       "             ('Neighborhood', 0.69129841935332448),\n",
       "             ('ExterQual', 0.68263924165625911),\n",
       "             ('KitchenQual', 0.65959972072865725),\n",
       "             ('GarageCars', 0.64040919725834899),\n",
       "             ('GarageArea', 0.62343143891835984),\n",
       "             ('TotalBsmtSF', 0.61358055155919444),\n",
       "             ('1stFlrSF', 0.6058521846919166),\n",
       "             ('BsmtQual', 0.58520719917251485),\n",
       "             ('FullBath', 0.5606637627484452),\n",
       "             ('GarageFinish', 0.5492467563332154),\n",
       "             ('TotRmsAbvGrd', 0.53372315558202377),\n",
       "             ('YearBuilt', 0.52289733287949669),\n",
       "             ('FireplaceQu', 0.52043760595040067),\n",
       "             ('YearRemodAdd', 0.50710096711138675),\n",
       "             ('Foundation', 0.49829122303224765),\n",
       "             ('GarageType', 0.48912998736754948),\n",
       "             ('MasVnrArea', 0.47261449900457725),\n",
       "             ('Fireplaces', 0.46692883675152419),\n",
       "             ('HeatingQC', 0.42764870739880489),\n",
       "             ('BsmtFinType1', 0.41495340351049781),\n",
       "             ('MasVnrType', 0.41179790894133184)])"
      ]
     },
     "execution_count": 36,
     "metadata": {},
     "output_type": "execute_result"
    }
   ],
   "source": [
    "from collections import OrderedDict\n",
    "order_high_cor_tab = OrderedDict()\n",
    "\n",
    "keys = sorted(high_cor_tab,key = lambda x: -high_cor_tab[x])\n",
    "for key in keys:\n",
    "    order_high_cor_tab[key] = high_cor_tab[key]\n",
    "order_high_cor_tab\n",
    "#print keys"
   ]
  },
  {
   "cell_type": "code",
   "execution_count": 37,
   "metadata": {
    "collapsed": false
   },
   "outputs": [
    {
     "data": {
      "text/html": [
       "<div>\n",
       "<table border=\"1\" class=\"dataframe\">\n",
       "  <thead>\n",
       "    <tr style=\"text-align: right;\">\n",
       "      <th></th>\n",
       "      <th>OverallQual</th>\n",
       "      <th>GrLivArea</th>\n",
       "      <th>Neighborhood</th>\n",
       "      <th>ExterQual</th>\n",
       "      <th>KitchenQual</th>\n",
       "      <th>GarageCars</th>\n",
       "      <th>GarageArea</th>\n",
       "      <th>TotalBsmtSF</th>\n",
       "      <th>1stFlrSF</th>\n",
       "      <th>BsmtQual</th>\n",
       "      <th>FullBath</th>\n",
       "      <th>GarageFinish</th>\n",
       "      <th>TotRmsAbvGrd</th>\n",
       "      <th>YearBuilt</th>\n",
       "      <th>FireplaceQu</th>\n",
       "      <th>YearRemodAdd</th>\n",
       "      <th>Foundation</th>\n",
       "      <th>GarageType</th>\n",
       "      <th>MasVnrArea</th>\n",
       "      <th>Fireplaces</th>\n",
       "      <th>HeatingQC</th>\n",
       "      <th>BsmtFinType1</th>\n",
       "      <th>MasVnrType</th>\n",
       "    </tr>\n",
       "  </thead>\n",
       "  <tbody>\n",
       "    <tr>\n",
       "      <th>OverallQual</th>\n",
       "      <td>1.000000</td>\n",
       "      <td>NaN</td>\n",
       "      <td>0.628203</td>\n",
       "      <td>0.726278</td>\n",
       "      <td>0.673331</td>\n",
       "      <td>0.600671</td>\n",
       "      <td>NaN</td>\n",
       "      <td>NaN</td>\n",
       "      <td>NaN</td>\n",
       "      <td>0.629379</td>\n",
       "      <td>NaN</td>\n",
       "      <td>NaN</td>\n",
       "      <td>NaN</td>\n",
       "      <td>NaN</td>\n",
       "      <td>NaN</td>\n",
       "      <td>NaN</td>\n",
       "      <td>NaN</td>\n",
       "      <td>NaN</td>\n",
       "      <td>NaN</td>\n",
       "      <td>NaN</td>\n",
       "      <td>NaN</td>\n",
       "      <td>NaN</td>\n",
       "      <td>NaN</td>\n",
       "    </tr>\n",
       "    <tr>\n",
       "      <th>GrLivArea</th>\n",
       "      <td>NaN</td>\n",
       "      <td>1.000000</td>\n",
       "      <td>NaN</td>\n",
       "      <td>NaN</td>\n",
       "      <td>NaN</td>\n",
       "      <td>NaN</td>\n",
       "      <td>NaN</td>\n",
       "      <td>NaN</td>\n",
       "      <td>NaN</td>\n",
       "      <td>NaN</td>\n",
       "      <td>0.630012</td>\n",
       "      <td>NaN</td>\n",
       "      <td>0.825489</td>\n",
       "      <td>NaN</td>\n",
       "      <td>NaN</td>\n",
       "      <td>NaN</td>\n",
       "      <td>NaN</td>\n",
       "      <td>NaN</td>\n",
       "      <td>NaN</td>\n",
       "      <td>NaN</td>\n",
       "      <td>NaN</td>\n",
       "      <td>NaN</td>\n",
       "      <td>NaN</td>\n",
       "    </tr>\n",
       "    <tr>\n",
       "      <th>Neighborhood</th>\n",
       "      <td>0.628203</td>\n",
       "      <td>NaN</td>\n",
       "      <td>1.000000</td>\n",
       "      <td>NaN</td>\n",
       "      <td>NaN</td>\n",
       "      <td>NaN</td>\n",
       "      <td>NaN</td>\n",
       "      <td>NaN</td>\n",
       "      <td>NaN</td>\n",
       "      <td>NaN</td>\n",
       "      <td>NaN</td>\n",
       "      <td>NaN</td>\n",
       "      <td>NaN</td>\n",
       "      <td>NaN</td>\n",
       "      <td>NaN</td>\n",
       "      <td>NaN</td>\n",
       "      <td>NaN</td>\n",
       "      <td>NaN</td>\n",
       "      <td>NaN</td>\n",
       "      <td>NaN</td>\n",
       "      <td>NaN</td>\n",
       "      <td>NaN</td>\n",
       "      <td>NaN</td>\n",
       "    </tr>\n",
       "    <tr>\n",
       "      <th>ExterQual</th>\n",
       "      <td>0.726278</td>\n",
       "      <td>NaN</td>\n",
       "      <td>NaN</td>\n",
       "      <td>1.000000</td>\n",
       "      <td>0.716122</td>\n",
       "      <td>NaN</td>\n",
       "      <td>NaN</td>\n",
       "      <td>NaN</td>\n",
       "      <td>NaN</td>\n",
       "      <td>NaN</td>\n",
       "      <td>NaN</td>\n",
       "      <td>NaN</td>\n",
       "      <td>NaN</td>\n",
       "      <td>NaN</td>\n",
       "      <td>NaN</td>\n",
       "      <td>NaN</td>\n",
       "      <td>0.608108</td>\n",
       "      <td>NaN</td>\n",
       "      <td>NaN</td>\n",
       "      <td>NaN</td>\n",
       "      <td>NaN</td>\n",
       "      <td>NaN</td>\n",
       "      <td>NaN</td>\n",
       "    </tr>\n",
       "    <tr>\n",
       "      <th>KitchenQual</th>\n",
       "      <td>0.673331</td>\n",
       "      <td>NaN</td>\n",
       "      <td>NaN</td>\n",
       "      <td>0.716122</td>\n",
       "      <td>1.000000</td>\n",
       "      <td>NaN</td>\n",
       "      <td>NaN</td>\n",
       "      <td>NaN</td>\n",
       "      <td>NaN</td>\n",
       "      <td>NaN</td>\n",
       "      <td>NaN</td>\n",
       "      <td>NaN</td>\n",
       "      <td>NaN</td>\n",
       "      <td>NaN</td>\n",
       "      <td>NaN</td>\n",
       "      <td>0.625316</td>\n",
       "      <td>NaN</td>\n",
       "      <td>NaN</td>\n",
       "      <td>NaN</td>\n",
       "      <td>NaN</td>\n",
       "      <td>NaN</td>\n",
       "      <td>NaN</td>\n",
       "      <td>NaN</td>\n",
       "    </tr>\n",
       "    <tr>\n",
       "      <th>GarageCars</th>\n",
       "      <td>0.600671</td>\n",
       "      <td>NaN</td>\n",
       "      <td>NaN</td>\n",
       "      <td>NaN</td>\n",
       "      <td>NaN</td>\n",
       "      <td>1.000000</td>\n",
       "      <td>0.882475</td>\n",
       "      <td>NaN</td>\n",
       "      <td>NaN</td>\n",
       "      <td>NaN</td>\n",
       "      <td>NaN</td>\n",
       "      <td>NaN</td>\n",
       "      <td>NaN</td>\n",
       "      <td>NaN</td>\n",
       "      <td>NaN</td>\n",
       "      <td>NaN</td>\n",
       "      <td>NaN</td>\n",
       "      <td>NaN</td>\n",
       "      <td>NaN</td>\n",
       "      <td>NaN</td>\n",
       "      <td>NaN</td>\n",
       "      <td>NaN</td>\n",
       "      <td>NaN</td>\n",
       "    </tr>\n",
       "    <tr>\n",
       "      <th>GarageArea</th>\n",
       "      <td>NaN</td>\n",
       "      <td>NaN</td>\n",
       "      <td>NaN</td>\n",
       "      <td>NaN</td>\n",
       "      <td>NaN</td>\n",
       "      <td>0.882475</td>\n",
       "      <td>1.000000</td>\n",
       "      <td>NaN</td>\n",
       "      <td>NaN</td>\n",
       "      <td>NaN</td>\n",
       "      <td>NaN</td>\n",
       "      <td>NaN</td>\n",
       "      <td>NaN</td>\n",
       "      <td>NaN</td>\n",
       "      <td>NaN</td>\n",
       "      <td>NaN</td>\n",
       "      <td>NaN</td>\n",
       "      <td>NaN</td>\n",
       "      <td>NaN</td>\n",
       "      <td>NaN</td>\n",
       "      <td>NaN</td>\n",
       "      <td>NaN</td>\n",
       "      <td>NaN</td>\n",
       "    </tr>\n",
       "    <tr>\n",
       "      <th>TotalBsmtSF</th>\n",
       "      <td>NaN</td>\n",
       "      <td>NaN</td>\n",
       "      <td>NaN</td>\n",
       "      <td>NaN</td>\n",
       "      <td>NaN</td>\n",
       "      <td>NaN</td>\n",
       "      <td>NaN</td>\n",
       "      <td>1.00000</td>\n",
       "      <td>0.81953</td>\n",
       "      <td>NaN</td>\n",
       "      <td>NaN</td>\n",
       "      <td>NaN</td>\n",
       "      <td>NaN</td>\n",
       "      <td>NaN</td>\n",
       "      <td>NaN</td>\n",
       "      <td>NaN</td>\n",
       "      <td>NaN</td>\n",
       "      <td>NaN</td>\n",
       "      <td>NaN</td>\n",
       "      <td>NaN</td>\n",
       "      <td>NaN</td>\n",
       "      <td>NaN</td>\n",
       "      <td>NaN</td>\n",
       "    </tr>\n",
       "    <tr>\n",
       "      <th>1stFlrSF</th>\n",
       "      <td>NaN</td>\n",
       "      <td>NaN</td>\n",
       "      <td>NaN</td>\n",
       "      <td>NaN</td>\n",
       "      <td>NaN</td>\n",
       "      <td>NaN</td>\n",
       "      <td>NaN</td>\n",
       "      <td>0.81953</td>\n",
       "      <td>1.00000</td>\n",
       "      <td>NaN</td>\n",
       "      <td>NaN</td>\n",
       "      <td>NaN</td>\n",
       "      <td>NaN</td>\n",
       "      <td>NaN</td>\n",
       "      <td>NaN</td>\n",
       "      <td>NaN</td>\n",
       "      <td>NaN</td>\n",
       "      <td>NaN</td>\n",
       "      <td>NaN</td>\n",
       "      <td>NaN</td>\n",
       "      <td>NaN</td>\n",
       "      <td>NaN</td>\n",
       "      <td>NaN</td>\n",
       "    </tr>\n",
       "    <tr>\n",
       "      <th>BsmtQual</th>\n",
       "      <td>0.629379</td>\n",
       "      <td>NaN</td>\n",
       "      <td>NaN</td>\n",
       "      <td>NaN</td>\n",
       "      <td>NaN</td>\n",
       "      <td>NaN</td>\n",
       "      <td>NaN</td>\n",
       "      <td>NaN</td>\n",
       "      <td>NaN</td>\n",
       "      <td>1.000000</td>\n",
       "      <td>NaN</td>\n",
       "      <td>NaN</td>\n",
       "      <td>NaN</td>\n",
       "      <td>0.602797</td>\n",
       "      <td>NaN</td>\n",
       "      <td>NaN</td>\n",
       "      <td>NaN</td>\n",
       "      <td>NaN</td>\n",
       "      <td>NaN</td>\n",
       "      <td>NaN</td>\n",
       "      <td>NaN</td>\n",
       "      <td>NaN</td>\n",
       "      <td>NaN</td>\n",
       "    </tr>\n",
       "    <tr>\n",
       "      <th>FullBath</th>\n",
       "      <td>NaN</td>\n",
       "      <td>0.630012</td>\n",
       "      <td>NaN</td>\n",
       "      <td>NaN</td>\n",
       "      <td>NaN</td>\n",
       "      <td>NaN</td>\n",
       "      <td>NaN</td>\n",
       "      <td>NaN</td>\n",
       "      <td>NaN</td>\n",
       "      <td>NaN</td>\n",
       "      <td>1.000000</td>\n",
       "      <td>NaN</td>\n",
       "      <td>NaN</td>\n",
       "      <td>NaN</td>\n",
       "      <td>NaN</td>\n",
       "      <td>NaN</td>\n",
       "      <td>NaN</td>\n",
       "      <td>NaN</td>\n",
       "      <td>NaN</td>\n",
       "      <td>NaN</td>\n",
       "      <td>NaN</td>\n",
       "      <td>NaN</td>\n",
       "      <td>NaN</td>\n",
       "    </tr>\n",
       "    <tr>\n",
       "      <th>GarageFinish</th>\n",
       "      <td>NaN</td>\n",
       "      <td>NaN</td>\n",
       "      <td>NaN</td>\n",
       "      <td>NaN</td>\n",
       "      <td>NaN</td>\n",
       "      <td>NaN</td>\n",
       "      <td>NaN</td>\n",
       "      <td>NaN</td>\n",
       "      <td>NaN</td>\n",
       "      <td>NaN</td>\n",
       "      <td>NaN</td>\n",
       "      <td>1.000000</td>\n",
       "      <td>NaN</td>\n",
       "      <td>NaN</td>\n",
       "      <td>NaN</td>\n",
       "      <td>NaN</td>\n",
       "      <td>NaN</td>\n",
       "      <td>0.678298</td>\n",
       "      <td>NaN</td>\n",
       "      <td>NaN</td>\n",
       "      <td>NaN</td>\n",
       "      <td>NaN</td>\n",
       "      <td>NaN</td>\n",
       "    </tr>\n",
       "    <tr>\n",
       "      <th>TotRmsAbvGrd</th>\n",
       "      <td>NaN</td>\n",
       "      <td>0.825489</td>\n",
       "      <td>NaN</td>\n",
       "      <td>NaN</td>\n",
       "      <td>NaN</td>\n",
       "      <td>NaN</td>\n",
       "      <td>NaN</td>\n",
       "      <td>NaN</td>\n",
       "      <td>NaN</td>\n",
       "      <td>NaN</td>\n",
       "      <td>NaN</td>\n",
       "      <td>NaN</td>\n",
       "      <td>1.000000</td>\n",
       "      <td>NaN</td>\n",
       "      <td>NaN</td>\n",
       "      <td>NaN</td>\n",
       "      <td>NaN</td>\n",
       "      <td>NaN</td>\n",
       "      <td>NaN</td>\n",
       "      <td>NaN</td>\n",
       "      <td>NaN</td>\n",
       "      <td>NaN</td>\n",
       "      <td>NaN</td>\n",
       "    </tr>\n",
       "    <tr>\n",
       "      <th>YearBuilt</th>\n",
       "      <td>NaN</td>\n",
       "      <td>NaN</td>\n",
       "      <td>NaN</td>\n",
       "      <td>NaN</td>\n",
       "      <td>NaN</td>\n",
       "      <td>NaN</td>\n",
       "      <td>NaN</td>\n",
       "      <td>NaN</td>\n",
       "      <td>NaN</td>\n",
       "      <td>0.602797</td>\n",
       "      <td>NaN</td>\n",
       "      <td>NaN</td>\n",
       "      <td>NaN</td>\n",
       "      <td>1.000000</td>\n",
       "      <td>NaN</td>\n",
       "      <td>NaN</td>\n",
       "      <td>0.646050</td>\n",
       "      <td>NaN</td>\n",
       "      <td>NaN</td>\n",
       "      <td>NaN</td>\n",
       "      <td>NaN</td>\n",
       "      <td>NaN</td>\n",
       "      <td>NaN</td>\n",
       "    </tr>\n",
       "    <tr>\n",
       "      <th>FireplaceQu</th>\n",
       "      <td>NaN</td>\n",
       "      <td>NaN</td>\n",
       "      <td>NaN</td>\n",
       "      <td>NaN</td>\n",
       "      <td>NaN</td>\n",
       "      <td>NaN</td>\n",
       "      <td>NaN</td>\n",
       "      <td>NaN</td>\n",
       "      <td>NaN</td>\n",
       "      <td>NaN</td>\n",
       "      <td>NaN</td>\n",
       "      <td>NaN</td>\n",
       "      <td>NaN</td>\n",
       "      <td>NaN</td>\n",
       "      <td>1.000000</td>\n",
       "      <td>NaN</td>\n",
       "      <td>NaN</td>\n",
       "      <td>NaN</td>\n",
       "      <td>NaN</td>\n",
       "      <td>0.863241</td>\n",
       "      <td>NaN</td>\n",
       "      <td>NaN</td>\n",
       "      <td>NaN</td>\n",
       "    </tr>\n",
       "    <tr>\n",
       "      <th>YearRemodAdd</th>\n",
       "      <td>NaN</td>\n",
       "      <td>NaN</td>\n",
       "      <td>NaN</td>\n",
       "      <td>NaN</td>\n",
       "      <td>0.625316</td>\n",
       "      <td>NaN</td>\n",
       "      <td>NaN</td>\n",
       "      <td>NaN</td>\n",
       "      <td>NaN</td>\n",
       "      <td>NaN</td>\n",
       "      <td>NaN</td>\n",
       "      <td>NaN</td>\n",
       "      <td>NaN</td>\n",
       "      <td>NaN</td>\n",
       "      <td>NaN</td>\n",
       "      <td>1.000000</td>\n",
       "      <td>NaN</td>\n",
       "      <td>NaN</td>\n",
       "      <td>NaN</td>\n",
       "      <td>NaN</td>\n",
       "      <td>NaN</td>\n",
       "      <td>NaN</td>\n",
       "      <td>NaN</td>\n",
       "    </tr>\n",
       "    <tr>\n",
       "      <th>Foundation</th>\n",
       "      <td>NaN</td>\n",
       "      <td>NaN</td>\n",
       "      <td>NaN</td>\n",
       "      <td>0.608108</td>\n",
       "      <td>NaN</td>\n",
       "      <td>NaN</td>\n",
       "      <td>NaN</td>\n",
       "      <td>NaN</td>\n",
       "      <td>NaN</td>\n",
       "      <td>NaN</td>\n",
       "      <td>NaN</td>\n",
       "      <td>NaN</td>\n",
       "      <td>NaN</td>\n",
       "      <td>0.646050</td>\n",
       "      <td>NaN</td>\n",
       "      <td>NaN</td>\n",
       "      <td>1.000000</td>\n",
       "      <td>NaN</td>\n",
       "      <td>NaN</td>\n",
       "      <td>NaN</td>\n",
       "      <td>NaN</td>\n",
       "      <td>NaN</td>\n",
       "      <td>NaN</td>\n",
       "    </tr>\n",
       "    <tr>\n",
       "      <th>GarageType</th>\n",
       "      <td>NaN</td>\n",
       "      <td>NaN</td>\n",
       "      <td>NaN</td>\n",
       "      <td>NaN</td>\n",
       "      <td>NaN</td>\n",
       "      <td>NaN</td>\n",
       "      <td>NaN</td>\n",
       "      <td>NaN</td>\n",
       "      <td>NaN</td>\n",
       "      <td>NaN</td>\n",
       "      <td>NaN</td>\n",
       "      <td>0.678298</td>\n",
       "      <td>NaN</td>\n",
       "      <td>NaN</td>\n",
       "      <td>NaN</td>\n",
       "      <td>NaN</td>\n",
       "      <td>NaN</td>\n",
       "      <td>1.000000</td>\n",
       "      <td>NaN</td>\n",
       "      <td>NaN</td>\n",
       "      <td>NaN</td>\n",
       "      <td>NaN</td>\n",
       "      <td>NaN</td>\n",
       "    </tr>\n",
       "    <tr>\n",
       "      <th>MasVnrArea</th>\n",
       "      <td>NaN</td>\n",
       "      <td>NaN</td>\n",
       "      <td>NaN</td>\n",
       "      <td>NaN</td>\n",
       "      <td>NaN</td>\n",
       "      <td>NaN</td>\n",
       "      <td>NaN</td>\n",
       "      <td>NaN</td>\n",
       "      <td>NaN</td>\n",
       "      <td>NaN</td>\n",
       "      <td>NaN</td>\n",
       "      <td>NaN</td>\n",
       "      <td>NaN</td>\n",
       "      <td>NaN</td>\n",
       "      <td>NaN</td>\n",
       "      <td>NaN</td>\n",
       "      <td>NaN</td>\n",
       "      <td>NaN</td>\n",
       "      <td>1.000000</td>\n",
       "      <td>NaN</td>\n",
       "      <td>NaN</td>\n",
       "      <td>NaN</td>\n",
       "      <td>0.658034</td>\n",
       "    </tr>\n",
       "    <tr>\n",
       "      <th>Fireplaces</th>\n",
       "      <td>NaN</td>\n",
       "      <td>NaN</td>\n",
       "      <td>NaN</td>\n",
       "      <td>NaN</td>\n",
       "      <td>NaN</td>\n",
       "      <td>NaN</td>\n",
       "      <td>NaN</td>\n",
       "      <td>NaN</td>\n",
       "      <td>NaN</td>\n",
       "      <td>NaN</td>\n",
       "      <td>NaN</td>\n",
       "      <td>NaN</td>\n",
       "      <td>NaN</td>\n",
       "      <td>NaN</td>\n",
       "      <td>0.863241</td>\n",
       "      <td>NaN</td>\n",
       "      <td>NaN</td>\n",
       "      <td>NaN</td>\n",
       "      <td>NaN</td>\n",
       "      <td>1.000000</td>\n",
       "      <td>NaN</td>\n",
       "      <td>NaN</td>\n",
       "      <td>NaN</td>\n",
       "    </tr>\n",
       "    <tr>\n",
       "      <th>HeatingQC</th>\n",
       "      <td>NaN</td>\n",
       "      <td>NaN</td>\n",
       "      <td>NaN</td>\n",
       "      <td>NaN</td>\n",
       "      <td>NaN</td>\n",
       "      <td>NaN</td>\n",
       "      <td>NaN</td>\n",
       "      <td>NaN</td>\n",
       "      <td>NaN</td>\n",
       "      <td>NaN</td>\n",
       "      <td>NaN</td>\n",
       "      <td>NaN</td>\n",
       "      <td>NaN</td>\n",
       "      <td>NaN</td>\n",
       "      <td>NaN</td>\n",
       "      <td>NaN</td>\n",
       "      <td>NaN</td>\n",
       "      <td>NaN</td>\n",
       "      <td>NaN</td>\n",
       "      <td>NaN</td>\n",
       "      <td>1.0</td>\n",
       "      <td>NaN</td>\n",
       "      <td>NaN</td>\n",
       "    </tr>\n",
       "    <tr>\n",
       "      <th>BsmtFinType1</th>\n",
       "      <td>NaN</td>\n",
       "      <td>NaN</td>\n",
       "      <td>NaN</td>\n",
       "      <td>NaN</td>\n",
       "      <td>NaN</td>\n",
       "      <td>NaN</td>\n",
       "      <td>NaN</td>\n",
       "      <td>NaN</td>\n",
       "      <td>NaN</td>\n",
       "      <td>NaN</td>\n",
       "      <td>NaN</td>\n",
       "      <td>NaN</td>\n",
       "      <td>NaN</td>\n",
       "      <td>NaN</td>\n",
       "      <td>NaN</td>\n",
       "      <td>NaN</td>\n",
       "      <td>NaN</td>\n",
       "      <td>NaN</td>\n",
       "      <td>NaN</td>\n",
       "      <td>NaN</td>\n",
       "      <td>NaN</td>\n",
       "      <td>1.0</td>\n",
       "      <td>NaN</td>\n",
       "    </tr>\n",
       "    <tr>\n",
       "      <th>MasVnrType</th>\n",
       "      <td>NaN</td>\n",
       "      <td>NaN</td>\n",
       "      <td>NaN</td>\n",
       "      <td>NaN</td>\n",
       "      <td>NaN</td>\n",
       "      <td>NaN</td>\n",
       "      <td>NaN</td>\n",
       "      <td>NaN</td>\n",
       "      <td>NaN</td>\n",
       "      <td>NaN</td>\n",
       "      <td>NaN</td>\n",
       "      <td>NaN</td>\n",
       "      <td>NaN</td>\n",
       "      <td>NaN</td>\n",
       "      <td>NaN</td>\n",
       "      <td>NaN</td>\n",
       "      <td>NaN</td>\n",
       "      <td>NaN</td>\n",
       "      <td>0.658034</td>\n",
       "      <td>NaN</td>\n",
       "      <td>NaN</td>\n",
       "      <td>NaN</td>\n",
       "      <td>1.000000</td>\n",
       "    </tr>\n",
       "  </tbody>\n",
       "</table>\n",
       "</div>"
      ],
      "text/plain": [
       "              OverallQual  GrLivArea  Neighborhood  ExterQual  KitchenQual  \\\n",
       "OverallQual      1.000000        NaN      0.628203   0.726278     0.673331   \n",
       "GrLivArea             NaN   1.000000           NaN        NaN          NaN   \n",
       "Neighborhood     0.628203        NaN      1.000000        NaN          NaN   \n",
       "ExterQual        0.726278        NaN           NaN   1.000000     0.716122   \n",
       "KitchenQual      0.673331        NaN           NaN   0.716122     1.000000   \n",
       "GarageCars       0.600671        NaN           NaN        NaN          NaN   \n",
       "GarageArea            NaN        NaN           NaN        NaN          NaN   \n",
       "TotalBsmtSF           NaN        NaN           NaN        NaN          NaN   \n",
       "1stFlrSF              NaN        NaN           NaN        NaN          NaN   \n",
       "BsmtQual         0.629379        NaN           NaN        NaN          NaN   \n",
       "FullBath              NaN   0.630012           NaN        NaN          NaN   \n",
       "GarageFinish          NaN        NaN           NaN        NaN          NaN   \n",
       "TotRmsAbvGrd          NaN   0.825489           NaN        NaN          NaN   \n",
       "YearBuilt             NaN        NaN           NaN        NaN          NaN   \n",
       "FireplaceQu           NaN        NaN           NaN        NaN          NaN   \n",
       "YearRemodAdd          NaN        NaN           NaN        NaN     0.625316   \n",
       "Foundation            NaN        NaN           NaN   0.608108          NaN   \n",
       "GarageType            NaN        NaN           NaN        NaN          NaN   \n",
       "MasVnrArea            NaN        NaN           NaN        NaN          NaN   \n",
       "Fireplaces            NaN        NaN           NaN        NaN          NaN   \n",
       "HeatingQC             NaN        NaN           NaN        NaN          NaN   \n",
       "BsmtFinType1          NaN        NaN           NaN        NaN          NaN   \n",
       "MasVnrType            NaN        NaN           NaN        NaN          NaN   \n",
       "\n",
       "              GarageCars  GarageArea  TotalBsmtSF  1stFlrSF  BsmtQual  \\\n",
       "OverallQual     0.600671         NaN          NaN       NaN  0.629379   \n",
       "GrLivArea            NaN         NaN          NaN       NaN       NaN   \n",
       "Neighborhood         NaN         NaN          NaN       NaN       NaN   \n",
       "ExterQual            NaN         NaN          NaN       NaN       NaN   \n",
       "KitchenQual          NaN         NaN          NaN       NaN       NaN   \n",
       "GarageCars      1.000000    0.882475          NaN       NaN       NaN   \n",
       "GarageArea      0.882475    1.000000          NaN       NaN       NaN   \n",
       "TotalBsmtSF          NaN         NaN      1.00000   0.81953       NaN   \n",
       "1stFlrSF             NaN         NaN      0.81953   1.00000       NaN   \n",
       "BsmtQual             NaN         NaN          NaN       NaN  1.000000   \n",
       "FullBath             NaN         NaN          NaN       NaN       NaN   \n",
       "GarageFinish         NaN         NaN          NaN       NaN       NaN   \n",
       "TotRmsAbvGrd         NaN         NaN          NaN       NaN       NaN   \n",
       "YearBuilt            NaN         NaN          NaN       NaN  0.602797   \n",
       "FireplaceQu          NaN         NaN          NaN       NaN       NaN   \n",
       "YearRemodAdd         NaN         NaN          NaN       NaN       NaN   \n",
       "Foundation           NaN         NaN          NaN       NaN       NaN   \n",
       "GarageType           NaN         NaN          NaN       NaN       NaN   \n",
       "MasVnrArea           NaN         NaN          NaN       NaN       NaN   \n",
       "Fireplaces           NaN         NaN          NaN       NaN       NaN   \n",
       "HeatingQC            NaN         NaN          NaN       NaN       NaN   \n",
       "BsmtFinType1         NaN         NaN          NaN       NaN       NaN   \n",
       "MasVnrType           NaN         NaN          NaN       NaN       NaN   \n",
       "\n",
       "              FullBath  GarageFinish  TotRmsAbvGrd  YearBuilt  FireplaceQu  \\\n",
       "OverallQual        NaN           NaN           NaN        NaN          NaN   \n",
       "GrLivArea     0.630012           NaN      0.825489        NaN          NaN   \n",
       "Neighborhood       NaN           NaN           NaN        NaN          NaN   \n",
       "ExterQual          NaN           NaN           NaN        NaN          NaN   \n",
       "KitchenQual        NaN           NaN           NaN        NaN          NaN   \n",
       "GarageCars         NaN           NaN           NaN        NaN          NaN   \n",
       "GarageArea         NaN           NaN           NaN        NaN          NaN   \n",
       "TotalBsmtSF        NaN           NaN           NaN        NaN          NaN   \n",
       "1stFlrSF           NaN           NaN           NaN        NaN          NaN   \n",
       "BsmtQual           NaN           NaN           NaN   0.602797          NaN   \n",
       "FullBath      1.000000           NaN           NaN        NaN          NaN   \n",
       "GarageFinish       NaN      1.000000           NaN        NaN          NaN   \n",
       "TotRmsAbvGrd       NaN           NaN      1.000000        NaN          NaN   \n",
       "YearBuilt          NaN           NaN           NaN   1.000000          NaN   \n",
       "FireplaceQu        NaN           NaN           NaN        NaN     1.000000   \n",
       "YearRemodAdd       NaN           NaN           NaN        NaN          NaN   \n",
       "Foundation         NaN           NaN           NaN   0.646050          NaN   \n",
       "GarageType         NaN      0.678298           NaN        NaN          NaN   \n",
       "MasVnrArea         NaN           NaN           NaN        NaN          NaN   \n",
       "Fireplaces         NaN           NaN           NaN        NaN     0.863241   \n",
       "HeatingQC          NaN           NaN           NaN        NaN          NaN   \n",
       "BsmtFinType1       NaN           NaN           NaN        NaN          NaN   \n",
       "MasVnrType         NaN           NaN           NaN        NaN          NaN   \n",
       "\n",
       "              YearRemodAdd  Foundation  GarageType  MasVnrArea  Fireplaces  \\\n",
       "OverallQual            NaN         NaN         NaN         NaN         NaN   \n",
       "GrLivArea              NaN         NaN         NaN         NaN         NaN   \n",
       "Neighborhood           NaN         NaN         NaN         NaN         NaN   \n",
       "ExterQual              NaN    0.608108         NaN         NaN         NaN   \n",
       "KitchenQual       0.625316         NaN         NaN         NaN         NaN   \n",
       "GarageCars             NaN         NaN         NaN         NaN         NaN   \n",
       "GarageArea             NaN         NaN         NaN         NaN         NaN   \n",
       "TotalBsmtSF            NaN         NaN         NaN         NaN         NaN   \n",
       "1stFlrSF               NaN         NaN         NaN         NaN         NaN   \n",
       "BsmtQual               NaN         NaN         NaN         NaN         NaN   \n",
       "FullBath               NaN         NaN         NaN         NaN         NaN   \n",
       "GarageFinish           NaN         NaN    0.678298         NaN         NaN   \n",
       "TotRmsAbvGrd           NaN         NaN         NaN         NaN         NaN   \n",
       "YearBuilt              NaN    0.646050         NaN         NaN         NaN   \n",
       "FireplaceQu            NaN         NaN         NaN         NaN    0.863241   \n",
       "YearRemodAdd      1.000000         NaN         NaN         NaN         NaN   \n",
       "Foundation             NaN    1.000000         NaN         NaN         NaN   \n",
       "GarageType             NaN         NaN    1.000000         NaN         NaN   \n",
       "MasVnrArea             NaN         NaN         NaN    1.000000         NaN   \n",
       "Fireplaces             NaN         NaN         NaN         NaN    1.000000   \n",
       "HeatingQC              NaN         NaN         NaN         NaN         NaN   \n",
       "BsmtFinType1           NaN         NaN         NaN         NaN         NaN   \n",
       "MasVnrType             NaN         NaN         NaN    0.658034         NaN   \n",
       "\n",
       "              HeatingQC  BsmtFinType1  MasVnrType  \n",
       "OverallQual         NaN           NaN         NaN  \n",
       "GrLivArea           NaN           NaN         NaN  \n",
       "Neighborhood        NaN           NaN         NaN  \n",
       "ExterQual           NaN           NaN         NaN  \n",
       "KitchenQual         NaN           NaN         NaN  \n",
       "GarageCars          NaN           NaN         NaN  \n",
       "GarageArea          NaN           NaN         NaN  \n",
       "TotalBsmtSF         NaN           NaN         NaN  \n",
       "1stFlrSF            NaN           NaN         NaN  \n",
       "BsmtQual            NaN           NaN         NaN  \n",
       "FullBath            NaN           NaN         NaN  \n",
       "GarageFinish        NaN           NaN         NaN  \n",
       "TotRmsAbvGrd        NaN           NaN         NaN  \n",
       "YearBuilt           NaN           NaN         NaN  \n",
       "FireplaceQu         NaN           NaN         NaN  \n",
       "YearRemodAdd        NaN           NaN         NaN  \n",
       "Foundation          NaN           NaN         NaN  \n",
       "GarageType          NaN           NaN         NaN  \n",
       "MasVnrArea          NaN           NaN    0.658034  \n",
       "Fireplaces          NaN           NaN         NaN  \n",
       "HeatingQC           1.0           NaN         NaN  \n",
       "BsmtFinType1        NaN           1.0         NaN  \n",
       "MasVnrType          NaN           NaN    1.000000  "
      ]
     },
     "execution_count": 37,
     "metadata": {},
     "output_type": "execute_result"
    }
   ],
   "source": [
    "temp = correlation_tab.ix[keys,keys]\n",
    "temp[(temp > 0.6) | (temp < -0.6)]"
   ]
  },
  {
   "cell_type": "code",
   "execution_count": 38,
   "metadata": {
    "collapsed": true
   },
   "outputs": [],
   "source": [
    "mod_columns = ['OverallQual', 'GrLivArea', 'GarageArea', 'TotalBsmtSF', 'GarageFinish', 'YearBuilt', 'FireplaceQU', \\\n",
    "               'YearRemodAdd', 'MasVnrArea', 'HeatingQC', 'BsmtFinType1']"
   ]
  },
  {
   "cell_type": "code",
   "execution_count": 45,
   "metadata": {
    "collapsed": false
   },
   "outputs": [
    {
     "data": {
      "text/plain": [
       "<seaborn.axisgrid.FacetGrid at 0xd8e45d0>"
      ]
     },
     "execution_count": 45,
     "metadata": {},
     "output_type": "execute_result"
    },
    {
     "data": {
      "image/png": "[encoded data removed]",
      "text/plain": [
       "<matplotlib.figure.Figure at 0xd74cd90>"
      ]
     },
     "metadata": {},
     "output_type": "display_data"
    }
   ],
   "source": [
    "sns.lmplot(x = 'TotalBsmtSF', y = 'SalePrice', data = mod_train)"
   ]
  },
  {
   "cell_type": "code",
   "execution_count": null,
   "metadata": {
    "collapsed": false,
    "scrolled": true
   },
   "outputs": [],
   "source": [
    "#print (train_mod.groupby('SaleCondition')['SalePrice'].mean()).sort_values()\n",
    "#print train_mod['SaleCondition'].value_counts()\n",
    "#print df['SaleCondition']"
   ]
  },
  {
   "cell_type": "code",
   "execution_count": null,
   "metadata": {
    "collapsed": false
   },
   "outputs": [],
   "source": [
    "sns.set(rc={\"figure.figsize\": (15, 10)},font_scale=1)\n",
    "f, araxs = plt.subplots(1, 2)\n",
    "\n",
    "g1= sns.boxplot(x= 'Neighborhood', y= 'SalePrice', data= train_mod, ax= araxs[0], \\\n",
    "                order= train_mod.groupby('Neighborhood')['SalePrice'].mean().sort_values().index)\n",
    "g2= train_mod.groupby('Neighborhood')['SalePrice'].mean().plot(kind = 'bar')\n",
    "\n",
    "g1.set_xticklabels(g1.get_xticklabels(), rotation= 45);\n",
    "g2.set_xticklabels(g2.get_xticklabels(), rotation= 45);"
   ]
  },
  {
   "cell_type": "code",
   "execution_count": null,
   "metadata": {
    "collapsed": true
   },
   "outputs": [],
   "source": []
  },
  {
   "cell_type": "code",
   "execution_count": null,
   "metadata": {
    "collapsed": false
   },
   "outputs": [],
   "source": [
    "df['SaleCondition'].value_counts()"
   ]
  },
  {
   "cell_type": "code",
   "execution_count": null,
   "metadata": {
    "collapsed": false,
    "scrolled": true
   },
   "outputs": [],
   "source": [
    "print (train_mod.groupby('SaleCondition')['SalePrice'].mean()).sort_values()\n",
    "print train_mod['SaleCondition'].value_counts()"
   ]
  },
  {
   "cell_type": "code",
   "execution_count": null,
   "metadata": {
    "collapsed": false
   },
   "outputs": [],
   "source": [
    "sns.set(rc={\"figure.figsize\": (12, 5)},font_scale=1)\n",
    "f, araxs = plt.subplots(1, 2)\n",
    "\n",
    "g1= sns.boxplot(x= 'RoofMatl', y= 'SalePrice', data= train_mod, ax= araxs[0], \\\n",
    "                order= train_mod.groupby('RoofMatl')['SalePrice'].mean().sort_values().index)\n",
    "g2= train_mod.groupby('RoofMatl')['SalePrice'].mean().plot(kind = 'bar',)\n",
    "\n",
    "g1.set_xticklabels(g1.get_xticklabels(), rotation= 45);\n",
    "g2.set_xticklabels(g2.get_xticklabels(), rotation= 45);"
   ]
  },
  {
   "cell_type": "code",
   "execution_count": null,
   "metadata": {
    "collapsed": false,
    "scrolled": true
   },
   "outputs": [],
   "source": [
    "train_mod['GarageType'].value_counts()"
   ]
  },
  {
   "cell_type": "code",
   "execution_count": null,
   "metadata": {
    "collapsed": false
   },
   "outputs": [],
   "source": [
    "sns.countplot(df['MiscFeature'])"
   ]
  },
  {
   "cell_type": "code",
   "execution_count": null,
   "metadata": {
    "collapsed": true
   },
   "outputs": [],
   "source": [
    "sns.boxplot(x = 'MiscFeature', y = 'SalePrice', data = train_mod)"
   ]
  },
  {
   "cell_type": "code",
   "execution_count": null,
   "metadata": {
    "collapsed": false
   },
   "outputs": [],
   "source": [
    "sns.set(rc={\"figure.figsize\": (12, 8)},font_scale=1)\n",
    "f, araxs = plt.subplots(1, 2)\n",
    "\n",
    "g1= sns.boxplot(x= 'Condition1', y= 'SalePrice', data= train_mod, ax= araxs[0], \\\n",
    "                order= train_mod.groupby('Condition1')['SalePrice'].mean().sort_values().index)\n",
    "g2= sns.boxplot(x='Condition2', y= 'SalePrice', data= train_mod, ax= araxs[1], \\\n",
    "                order= train_mod.groupby('Condition2')['SalePrice'].mean().sort_values().index)\n",
    "\n",
    "\"\"\"g3= sns.boxplot(x= 'ExterQual', y= 'SalePrice', data= train, ax= araxs[1,0], \\\n",
    "                order= train.groupby('ExterQual')['SalePrice'].mean().sort_values().index)\n",
    "g4= sns.boxplot(x='ExterCond', y= 'SalePrice', data= train, ax= araxs[1,1], \\\n",
    "                order= train.groupby('ExterCond')['SalePrice'].mean().sort_values().index)\"\"\"\n",
    "\n",
    "\n",
    "g1.set_xticklabels(g1.get_xticklabels(), rotation= 45);\n",
    "g2.set_xticklabels(g2.get_xticklabels(), rotation= 45);\n",
    "\"\"\"g3.set_xticklabels(g3.get_xticklabels(), rotation= 45);\n",
    "g4.set_xticklabels(g4.get_xticklabels(), rotation= 45);\"\"\""
   ]
  },
  {
   "cell_type": "code",
   "execution_count": null,
   "metadata": {
    "collapsed": false
   },
   "outputs": [],
   "source": []
  },
  {
   "cell_type": "code",
   "execution_count": null,
   "metadata": {
    "collapsed": true
   },
   "outputs": [],
   "source": []
  }
 ],
 "metadata": {
  "anaconda-cloud": {},
  "kernelspec": {
   "display_name": "Python [Root]",
   "language": "python",
   "name": "Python [Root]"
  },
  "language_info": {
   "codemirror_mode": {
    "name": "ipython",
    "version": 2
   },
   "file_extension": ".py",
   "mimetype": "text/x-python",
   "name": "python",
   "nbconvert_exporter": "python",
   "pygments_lexer": "ipython2",
   "version": "2.7.12"
  }
 },
 "nbformat": 4,
 "nbformat_minor": 0
}
